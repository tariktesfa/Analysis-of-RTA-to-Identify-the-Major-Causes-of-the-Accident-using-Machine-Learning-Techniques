{
 "cells": [
  {
   "cell_type": "code",
   "execution_count": 54,
   "metadata": {},
   "outputs": [
    {
     "data": {
      "text/html": [
       "        <script type=\"text/javascript\">\n",
       "        window.PlotlyConfig = {MathJaxConfig: 'local'};\n",
       "        if (window.MathJax) {MathJax.Hub.Config({SVG: {font: \"STIX-Web\"}});}\n",
       "        if (typeof require !== 'undefined') {\n",
       "        require.undef(\"plotly\");\n",
       "        requirejs.config({\n",
       "            paths: {\n",
       "                'plotly': ['https://cdn.plot.ly/plotly-latest.min']\n",
       "            }\n",
       "        });\n",
       "        require(['plotly'], function(Plotly) {\n",
       "            window._Plotly = Plotly;\n",
       "        });\n",
       "        }\n",
       "        </script>\n",
       "        "
      ]
     },
     "metadata": {},
     "output_type": "display_data"
    }
   ],
   "source": [
    "##Importing Libraries\n",
    "import pandas as pd\n",
    "import numpy as np\n",
    "import seaborn as sns\n",
    "import sklearn\n",
    "import matplotlib.pyplot as plt \n",
    "import plotly.offline as py\n",
    "from sklearn import tree,linear_model,neighbors, svm\n",
    "from sklearn.model_selection import cross_val_score, train_test_split,GridSearchCV, KFold\n",
    "from sklearn.metrics import accuracy_score,confusion_matrix,classification_report,recall_score,f1_score,precision_score\n",
    "from sklearn.exceptions import ConvergenceWarning\n",
    "from sklearn.svm import SVC\n",
    "from sklearn.naive_bayes import GaussianNB\n",
    "from sklearn.ensemble import RandomForestClassifier,AdaBoostClassifier\n",
    "from imblearn.over_sampling import SMOTE\n",
    "from imblearn.under_sampling import RandomUnderSampler\n",
    "from collections import Counter\n",
    "import time\n",
    "import matplotlib.pyplot as plt                \n",
    "import plotly.offline as py\n",
    "from plotly import tools\n",
    "py.init_notebook_mode(connected=True)\n",
    "import plotly.graph_objs as go"
   ]
  },
  {
   "cell_type": "code",
   "execution_count": 55,
   "metadata": {},
   "outputs": [],
   "source": [
    "## For ignoring warnings to view clean output\n",
    "import warnings\n",
    "warnings.filterwarnings(\"ignore\", category=FutureWarning)\n",
    "warnings.filterwarnings(\"ignore\", category=ConvergenceWarning)\n",
    "warnings.filterwarnings(\"ignore\", category=DeprecationWarning)"
   ]
  },
  {
   "cell_type": "code",
   "execution_count": 56,
   "metadata": {},
   "outputs": [],
   "source": [
    "## Importing the dataset\n",
    "df = pd.read_csv('Data/cleaned.csv',header=0)"
   ]
  },
  {
   "cell_type": "code",
   "execution_count": 58,
   "metadata": {},
   "outputs": [
    {
     "data": {
      "text/html": [
       "<div>\n",
       "<style scoped>\n",
       "    .dataframe tbody tr th:only-of-type {\n",
       "        vertical-align: middle;\n",
       "    }\n",
       "\n",
       "    .dataframe tbody tr th {\n",
       "        vertical-align: top;\n",
       "    }\n",
       "\n",
       "    .dataframe thead th {\n",
       "        text-align: right;\n",
       "    }\n",
       "</style>\n",
       "<table border=\"1\" class=\"dataframe\">\n",
       "  <thead>\n",
       "    <tr style=\"text-align: right;\">\n",
       "      <th></th>\n",
       "      <th>Age_band_of_driver</th>\n",
       "      <th>Sex_of_driver</th>\n",
       "      <th>Educational_level</th>\n",
       "      <th>Vehicle_driver_relation</th>\n",
       "      <th>Driving_experience</th>\n",
       "      <th>Lanes_or_Medians</th>\n",
       "      <th>Types_of_Junction</th>\n",
       "      <th>Road_surface_type</th>\n",
       "      <th>Light_conditions</th>\n",
       "      <th>Weather_conditions</th>\n",
       "      <th>Type_of_collision</th>\n",
       "      <th>Vehicle_movement</th>\n",
       "      <th>Pedestrian_movement</th>\n",
       "      <th>Cause_of_accident</th>\n",
       "      <th>Accident_severity</th>\n",
       "    </tr>\n",
       "  </thead>\n",
       "  <tbody>\n",
       "    <tr>\n",
       "      <th>11783</th>\n",
       "      <td>Over 51</td>\n",
       "      <td>Male</td>\n",
       "      <td>Junior high school</td>\n",
       "      <td>Employee</td>\n",
       "      <td>2-5yr</td>\n",
       "      <td>Two-way (divided with broken lines road marking)</td>\n",
       "      <td>Y Shape</td>\n",
       "      <td>Asphalt roads</td>\n",
       "      <td>Daylight</td>\n",
       "      <td>Normal</td>\n",
       "      <td>Vehicle with vehicle collision</td>\n",
       "      <td>Getting off</td>\n",
       "      <td>Not a Pedestrian</td>\n",
       "      <td>Driving carelessly</td>\n",
       "      <td>2</td>\n",
       "    </tr>\n",
       "    <tr>\n",
       "      <th>8924</th>\n",
       "      <td>Under 18</td>\n",
       "      <td>Male</td>\n",
       "      <td>Elementary school</td>\n",
       "      <td>Owner</td>\n",
       "      <td>2-5yr</td>\n",
       "      <td>other</td>\n",
       "      <td>Y Shape</td>\n",
       "      <td>Other</td>\n",
       "      <td>Daylight</td>\n",
       "      <td>Normal</td>\n",
       "      <td>Vehicle with vehicle collision</td>\n",
       "      <td>Going straight</td>\n",
       "      <td>Not a Pedestrian</td>\n",
       "      <td>Moving Backward</td>\n",
       "      <td>1</td>\n",
       "    </tr>\n",
       "    <tr>\n",
       "      <th>4250</th>\n",
       "      <td>Over 51</td>\n",
       "      <td>Male</td>\n",
       "      <td>Junior high school</td>\n",
       "      <td>Employee</td>\n",
       "      <td>2-5yr</td>\n",
       "      <td>Two-way (divided with broken lines road marking)</td>\n",
       "      <td>No junction</td>\n",
       "      <td>Asphalt roads</td>\n",
       "      <td>Daylight</td>\n",
       "      <td>Normal</td>\n",
       "      <td>Vehicle with vehicle collision</td>\n",
       "      <td>U-Turn</td>\n",
       "      <td>Unknown or other</td>\n",
       "      <td>No priority to vehicle</td>\n",
       "      <td>2</td>\n",
       "    </tr>\n",
       "  </tbody>\n",
       "</table>\n",
       "</div>"
      ],
      "text/plain": [
       "      Age_band_of_driver Sex_of_driver   Educational_level  \\\n",
       "11783            Over 51          Male  Junior high school   \n",
       "8924            Under 18          Male   Elementary school   \n",
       "4250             Over 51          Male  Junior high school   \n",
       "\n",
       "      Vehicle_driver_relation Driving_experience  \\\n",
       "11783                Employee              2-5yr   \n",
       "8924                    Owner              2-5yr   \n",
       "4250                 Employee              2-5yr   \n",
       "\n",
       "                                       Lanes_or_Medians Types_of_Junction  \\\n",
       "11783  Two-way (divided with broken lines road marking)           Y Shape   \n",
       "8924                                              other           Y Shape   \n",
       "4250   Two-way (divided with broken lines road marking)       No junction   \n",
       "\n",
       "      Road_surface_type Light_conditions Weather_conditions  \\\n",
       "11783     Asphalt roads         Daylight             Normal   \n",
       "8924              Other         Daylight             Normal   \n",
       "4250      Asphalt roads         Daylight             Normal   \n",
       "\n",
       "                    Type_of_collision Vehicle_movement Pedestrian_movement  \\\n",
       "11783  Vehicle with vehicle collision      Getting off    Not a Pedestrian   \n",
       "8924   Vehicle with vehicle collision   Going straight    Not a Pedestrian   \n",
       "4250   Vehicle with vehicle collision           U-Turn    Unknown or other   \n",
       "\n",
       "            Cause_of_accident  Accident_severity  \n",
       "11783      Driving carelessly                  2  \n",
       "8924          Moving Backward                  1  \n",
       "4250   No priority to vehicle                  2  "
      ]
     },
     "execution_count": 58,
     "metadata": {},
     "output_type": "execute_result"
    }
   ],
   "source": [
    "df.sample(3)"
   ]
  },
  {
   "cell_type": "code",
   "execution_count": 59,
   "metadata": {},
   "outputs": [],
   "source": [
    "### Separating Independent and Dependent features\n",
    "X = data.iloc[:,:-1]\n",
    "y = data.iloc[:, 14]"
   ]
  },
  {
   "cell_type": "markdown",
   "metadata": {},
   "source": [
    "### Data Transformation\n",
    "#### Handling Categorical Variables - Creating Dummy Variables"
   ]
  },
  {
   "cell_type": "code",
   "execution_count": 22,
   "metadata": {},
   "outputs": [
    {
     "name": "stdout",
     "output_type": "stream",
     "text": [
      "Age_band_of_driver : 5 categories\n",
      "Sex_of_driver : 3 categories\n",
      "Educational_level : 7 categories\n",
      "Vehicle_driver_relation : 4 categories\n",
      "Driving_experience : 8 categories\n",
      "Lanes_or_Medians : 7 categories\n",
      "Types_of_Junction : 8 categories\n",
      "Road_surface_type : 6 categories\n",
      "Light_conditions : 4 categories\n",
      "Weather_conditions : 9 categories\n",
      "Type_of_collision : 10 categories\n",
      "Vehicle_movement : 13 categories\n",
      "Pedestrian_movement : 9 categories\n",
      "Cause_of_accident : 20 categories\n",
      "Accident_severity : 3 categories\n"
     ]
    }
   ],
   "source": [
    "# Shows the columns with their number of categories each variable is having\n",
    "for col in data.columns:\n",
    "    print(col, ':', len(data[col].unique()), 'categories')"
   ]
  },
  {
   "cell_type": "code",
   "execution_count": 10,
   "metadata": {},
   "outputs": [
    {
     "data": {
      "text/plain": [
       "(12316, 101)"
      ]
     },
     "execution_count": 10,
     "metadata": {},
     "output_type": "execute_result"
    }
   ],
   "source": [
    "pd.get_dummies(data,drop_first=True).shape"
   ]
  },
  {
   "cell_type": "code",
   "execution_count": 60,
   "metadata": {},
   "outputs": [],
   "source": [
    "X = pd.get_dummies(X, drop_first=True)"
   ]
  },
  {
   "cell_type": "code",
   "execution_count": 61,
   "metadata": {},
   "outputs": [
    {
     "data": {
      "text/plain": [
       "(12316, 99)"
      ]
     },
     "execution_count": 61,
     "metadata": {},
     "output_type": "execute_result"
    }
   ],
   "source": [
    "X.shape"
   ]
  },
  {
   "cell_type": "code",
   "execution_count": 62,
   "metadata": {},
   "outputs": [],
   "source": [
    "from sklearn.preprocessing import StandardScaler\n",
    "scaler = StandardScaler()\n",
    "X = scaler.fit_transform(X)"
   ]
  },
  {
   "cell_type": "code",
   "execution_count": 63,
   "metadata": {},
   "outputs": [
    {
     "name": "stdout",
     "output_type": "stream",
     "text": [
      "Mean of the dataset:  0.0\n",
      "Standard deviation of the dataset:  1.0\n"
     ]
    }
   ],
   "source": [
    "print(\"Mean of the dataset: \", np.mean(X).round(8))\n",
    "print(\"Standard deviation of the dataset: \", np.std(X).round(8))"
   ]
  },
  {
   "cell_type": "markdown",
   "metadata": {},
   "source": [
    "### Handling Class imbalance"
   ]
  },
  {
   "cell_type": "code",
   "execution_count": 64,
   "metadata": {},
   "outputs": [
    {
     "data": {
      "text/plain": [
       "2    10415\n",
       "1     1743\n",
       "0      158\n",
       "Name: Accident_severity, dtype: int64"
      ]
     },
     "execution_count": 64,
     "metadata": {},
     "output_type": "execute_result"
    }
   ],
   "source": [
    "### Checking for data imbalance \n",
    "y.value_counts()"
   ]
  },
  {
   "cell_type": "code",
   "execution_count": 65,
   "metadata": {},
   "outputs": [
    {
     "name": "stdout",
     "output_type": "stream",
     "text": [
      "Slight Injury: 84.56%\n",
      "Serious Injury: 14.15%\n",
      "Fatal Injury: 1.28%\n"
     ]
    }
   ],
   "source": [
    "print('Slight Injury: ' + str(round(data['Accident_severity'].value_counts()[2] / len(data) * 100, 2)) + '%\\nSerious Injury: ' + \n",
    "      str(round(data['Accident_severity'].value_counts()[1] / len(data) * 100, 2))  + '%\\nFatal Injury: ' + \n",
    "      str(round(data['Accident_severity'].value_counts()[0] / len(data) * 100, 2)) + '%')"
   ]
  },
  {
   "cell_type": "markdown",
   "metadata": {},
   "source": [
    "#### Splitting the dataset into training and test data for normal distribution"
   ]
  },
  {
   "cell_type": "code",
   "execution_count": 66,
   "metadata": {},
   "outputs": [],
   "source": [
    "X_train,X_test,y_train,y_test = train_test_split(X,y,test_size=0.2,random_state=42)\n",
    "#setting 20% aside as validation data for cross validation\n",
    "x_train_t, x_train_v, y_train_t, y_train_v = train_test_split(X_train, y_train, test_size = 0.2, random_state = 42)"
   ]
  },
  {
   "cell_type": "code",
   "execution_count": 67,
   "metadata": {},
   "outputs": [
    {
     "name": "stdout",
     "output_type": "stream",
     "text": [
      "(9852, 99)\n",
      "(2464, 99)\n",
      "(9852,)\n",
      "(2464,)\n"
     ]
    }
   ],
   "source": [
    "# print the shapes of our training and test set \n",
    "print(X_train.shape)\n",
    "print(X_test.shape)\n",
    "print(y_train.shape)\n",
    "print(y_test.shape)"
   ]
  },
  {
   "cell_type": "code",
   "execution_count": 68,
   "metadata": {},
   "outputs": [
    {
     "data": {
      "text/plain": [
       "2    2064\n",
       "1     363\n",
       "0      37\n",
       "Name: Accident_severity, dtype: int64"
      ]
     },
     "execution_count": 68,
     "metadata": {},
     "output_type": "execute_result"
    }
   ],
   "source": [
    "y_test.value_counts()"
   ]
  },
  {
   "cell_type": "markdown",
   "metadata": {},
   "source": [
    "## Model training with normal class distribution"
   ]
  },
  {
   "cell_type": "markdown",
   "metadata": {},
   "source": [
    "#### Model Evaluation : F1 Macro\n",
    "**In this problem domain all classes should be treated equally. So Macro F1-score will give the same importance to each label/class. It will be low for models that only perform well on the common classes while performing poorly on the rare classes.***"
   ]
  },
  {
   "cell_type": "markdown",
   "metadata": {},
   "source": [
    "### 1. Logistic Regression"
   ]
  },
  {
   "cell_type": "code",
   "execution_count": 69,
   "metadata": {},
   "outputs": [
    {
     "name": "stdout",
     "output_type": "stream",
     "text": [
      "Execution time: 0.9414849281311035 sec\n"
     ]
    }
   ],
   "source": [
    "start_time = time.time()\n",
    "LR_model = linear_model.LogisticRegression(class_weight='balanced', multi_class='ovr')\n",
    "# feeding the training data into the model\n",
    "LR_model.fit(X_train, y_train)\n",
    "print(\"Execution time: \" + str((time.time() - start_time)) + ' sec')"
   ]
  },
  {
   "cell_type": "code",
   "execution_count": 70,
   "metadata": {},
   "outputs": [
    {
     "name": "stdout",
     "output_type": "stream",
     "text": [
      "Confusion Matrix: - \n",
      " [[  14   12   11]\n",
      " [ 107  112  144]\n",
      " [ 484  560 1020]]\n",
      "\n",
      "Classification Report: - \n",
      "               precision    recall  f1-score   support\n",
      "\n",
      "       Fatal       0.02      0.38      0.04        37\n",
      "     Serious       0.16      0.31      0.21       363\n",
      "      Slight       0.87      0.49      0.63      2064\n",
      "\n",
      "    accuracy                           0.47      2464\n",
      "   macro avg       0.35      0.39      0.30      2464\n",
      "weighted avg       0.75      0.47      0.56      2464\n",
      "\n",
      "Recall: 0.39370145659786254\n",
      "Precision: 0.39370145659786254\n",
      "F1 score: 0.39370145659786254\n"
     ]
    }
   ],
   "source": [
    "# predicting the values for x-test\n",
    "y_pred = LR_model.predict(X_test)\n",
    "# finding the training and testing accuracy\n",
    "name = ['Fatal','Serious','Slight']\n",
    "LR_r=recall_score(y_test,y_pred, average='macro')\n",
    "LR_p=precision_score(y_test,y_pred, average='macro')\n",
    "LR_f=f1_score(y_test,y_pred, average='macro')\n",
    "print(\"Confusion Matrix: - \\n\",confusion_matrix(y_test, y_pred))\n",
    "print()\n",
    "print(\"Classification Report: - \\n\",classification_report(y_test, y_pred,target_names=name))\n",
    "print(\"Recall:\", LR_r)\n",
    "print(\"Precision:\", LR_r)\n",
    "print(\"F1 score:\", LR_r)"
   ]
  },
  {
   "cell_type": "markdown",
   "metadata": {},
   "source": [
    "### 2. Naive Bayes"
   ]
  },
  {
   "cell_type": "code",
   "execution_count": 71,
   "metadata": {},
   "outputs": [
    {
     "name": "stdout",
     "output_type": "stream",
     "text": [
      "Execution time: 0.24031949043273926 sec\n"
     ]
    }
   ],
   "source": [
    "start_time = time.time()\n",
    "NB_model = GaussianNB()\n",
    "# feeding the training data into the model\n",
    "NB_model.fit(X_train, y_train)\n",
    "print(\"Execution time: \" + str((time.time() - start_time)) + ' sec')"
   ]
  },
  {
   "cell_type": "code",
   "execution_count": 72,
   "metadata": {},
   "outputs": [
    {
     "name": "stdout",
     "output_type": "stream",
     "text": [
      "Confusion Matrix: - \n",
      " [[  32    5    0]\n",
      " [ 306   53    4]\n",
      " [1677  326   61]]\n",
      "\n",
      "Classification Report: - \n",
      "               precision    recall  f1-score   support\n",
      "\n",
      "       Fatal       0.02      0.86      0.03        37\n",
      "     Serious       0.14      0.15      0.14       363\n",
      "      Slight       0.94      0.03      0.06      2064\n",
      "\n",
      "    accuracy                           0.06      2464\n",
      "   macro avg       0.36      0.35      0.08      2464\n",
      "weighted avg       0.81      0.06      0.07      2464\n",
      "\n",
      "Recall: 0.3468082126908765\n",
      "Precision: 0.3641210883650399\n",
      "F1 score: 0.07679797314874669\n"
     ]
    }
   ],
   "source": [
    "# predicting the values for x-test\n",
    "y_pred = NB_model.predict(X_test)\n",
    "# finding the training and testing accuracy\n",
    "name = ['Fatal','Serious','Slight']\n",
    "NB_r=recall_score(y_test,y_pred, average='macro')\n",
    "NB_p=precision_score(y_test,y_pred, average='macro')\n",
    "NB_f=f1_score(y_test,y_pred, average='macro')\n",
    "print(\"Confusion Matrix: - \\n\",confusion_matrix(y_test, y_pred))\n",
    "print()\n",
    "print(\"Classification Report: - \\n\",classification_report(y_test, y_pred,target_names=name))\n",
    "print(\"Recall:\", NB_r)\n",
    "print(\"Precision:\", NB_p)\n",
    "print(\"F1 score:\", NB_f)"
   ]
  },
  {
   "cell_type": "markdown",
   "metadata": {},
   "source": [
    "### 3. Decision Tree"
   ]
  },
  {
   "cell_type": "code",
   "execution_count": 73,
   "metadata": {},
   "outputs": [
    {
     "name": "stdout",
     "output_type": "stream",
     "text": [
      "Execution time: 0.6552484035491943 sec\n"
     ]
    }
   ],
   "source": [
    "start_time = time.time()\n",
    "DT_model = tree.DecisionTreeClassifier(class_weight='balanced', random_state=101)\n",
    "# feeding the training data into the model\n",
    "DT_model.fit(X_train, y_train)\n",
    "print(\"Execution time: \" + str((time.time() - start_time)) + ' sec')"
   ]
  },
  {
   "cell_type": "code",
   "execution_count": 74,
   "metadata": {},
   "outputs": [
    {
     "name": "stdout",
     "output_type": "stream",
     "text": [
      "Confusion Matrix: - \n",
      " [[   3    8   26]\n",
      " [   6   54  303]\n",
      " [  46  304 1714]]\n",
      "\n",
      "Classification Report: - \n",
      "               precision    recall  f1-score   support\n",
      "\n",
      "       Fatal       0.05      0.08      0.07        37\n",
      "     Serious       0.15      0.15      0.15       363\n",
      "      Slight       0.84      0.83      0.83      2064\n",
      "\n",
      "    accuracy                           0.72      2464\n",
      "   macro avg       0.35      0.35      0.35      2464\n",
      "weighted avg       0.73      0.72      0.72      2464\n",
      "\n",
      "Recall: 0.3534225894162469\n",
      "Precision: 0.3470162494933204\n",
      "F1 score: 0.34934601660022735\n"
     ]
    }
   ],
   "source": [
    "# predicting the values for x-test\n",
    "y_pred = DT_model.predict(X_test)\n",
    "# finding the training and testing accuracy\n",
    "name = ['Fatal','Serious','Slight']\n",
    "DT_r=recall_score(y_test,y_pred, average='macro')\n",
    "DT_p=precision_score(y_test,y_pred, average='macro')\n",
    "DT_f=f1_score(y_test,y_pred, average='macro')\n",
    "print(\"Confusion Matrix: - \\n\",confusion_matrix(y_test, y_pred))\n",
    "print()\n",
    "print(\"Classification Report: - \\n\",classification_report(y_test, y_pred,target_names=name))\n",
    "print(\"Recall:\", DT_r)\n",
    "print(\"Precision:\", DT_p)\n",
    "print(\"F1 score:\", DT_f)"
   ]
  },
  {
   "cell_type": "markdown",
   "metadata": {},
   "source": [
    "### 4. K Nearest Neighbors"
   ]
  },
  {
   "cell_type": "code",
   "execution_count": 75,
   "metadata": {},
   "outputs": [
    {
     "name": "stdout",
     "output_type": "stream",
     "text": [
      "Execution time: 0.8317763805389404 sec\n"
     ]
    }
   ],
   "source": [
    "start_time = time.time()\n",
    "knn_model = neighbors.KNeighborsClassifier()\n",
    "# feeding the training data into the model\n",
    "knn_model.fit(X_train, y_train)\n",
    "print(\"Execution time: \" + str((time.time() - start_time)) + ' sec')"
   ]
  },
  {
   "cell_type": "code",
   "execution_count": 76,
   "metadata": {},
   "outputs": [
    {
     "name": "stdout",
     "output_type": "stream",
     "text": [
      "Confusion Matrix: - \n",
      " [[   0    1   36]\n",
      " [   1   10  352]\n",
      " [   1   64 1999]]\n",
      "\n",
      "Classification Report: - \n",
      "               precision    recall  f1-score   support\n",
      "\n",
      "       Fatal       0.00      0.00      0.00        37\n",
      "     Serious       0.13      0.03      0.05       363\n",
      "      Slight       0.84      0.97      0.90      2064\n",
      "\n",
      "    accuracy                           0.82      2464\n",
      "   macro avg       0.32      0.33      0.31      2464\n",
      "weighted avg       0.72      0.82      0.76      2464\n",
      "\n",
      "Recall: 0.3320186537681253\n",
      "Precision: 0.32359540101475587\n",
      "F1 score: 0.31462907280254776\n"
     ]
    }
   ],
   "source": [
    "# predicting the values for x-test\n",
    "y_pred = knn_model.predict(X_test)\n",
    "# finding the training and testing accuracy\n",
    "name = ['Fatal','Serious','Slight']\n",
    "knn_r=recall_score(y_test,y_pred, average='macro')\n",
    "knn_p=precision_score(y_test,y_pred, average='macro')\n",
    "knn_f=f1_score(y_test,y_pred, average='macro')\n",
    "print(\"Confusion Matrix: - \\n\",confusion_matrix(y_test, y_pred))\n",
    "print()\n",
    "print(\"Classification Report: - \\n\",classification_report(y_test, y_pred,target_names=name))\n",
    "print(\"Recall:\", knn_r)\n",
    "print(\"Precision:\", knn_p)\n",
    "print(\"F1 score:\", knn_f)"
   ]
  },
  {
   "cell_type": "markdown",
   "metadata": {},
   "source": [
    "### 5. Support Vector Machine "
   ]
  },
  {
   "cell_type": "code",
   "execution_count": 77,
   "metadata": {},
   "outputs": [
    {
     "name": "stdout",
     "output_type": "stream",
     "text": [
      "Execution time: 29.80839729309082 sec\n"
     ]
    }
   ],
   "source": [
    "start_time = time.time()\n",
    "svm_model = svm.SVC(class_weight='balanced',decision_function_shape='ovr')\n",
    "# feeding the training data into the model\n",
    "svm_model.fit(X_train, y_train)\n",
    "print(\"Execution time: \" + str((time.time() - start_time)) + ' sec')"
   ]
  },
  {
   "cell_type": "code",
   "execution_count": 78,
   "metadata": {},
   "outputs": [
    {
     "name": "stdout",
     "output_type": "stream",
     "text": [
      "Confusion Matrix: - \n",
      " [[   4   12   21]\n",
      " [  21  125  217]\n",
      " [ 115  551 1398]]\n",
      "\n",
      "Classification Report: - \n",
      "               precision    recall  f1-score   support\n",
      "\n",
      "       Fatal       0.03      0.11      0.05        37\n",
      "     Serious       0.18      0.34      0.24       363\n",
      "      Slight       0.85      0.68      0.76      2064\n",
      "\n",
      "    accuracy                           0.62      2464\n",
      "   macro avg       0.35      0.38      0.35      2464\n",
      "weighted avg       0.74      0.62      0.67      2464\n",
      "\n",
      "Recall: 0.37659543552778224\n",
      "Precision: 0.35492690082230655\n",
      "F1 score: 0.34624737075607115\n"
     ]
    }
   ],
   "source": [
    "# predicting the values for x-test\n",
    "y_pred = svm_model.predict(X_test)\n",
    "# finding the training and testing accuracy\n",
    "name = ['Fatal','Serious','Slight']\n",
    "svm_r=recall_score(y_test,y_pred, average='macro')\n",
    "svm_p=precision_score(y_test,y_pred, average='macro')\n",
    "svm_f=f1_score(y_test,y_pred, average='macro')\n",
    "print(\"Confusion Matrix: - \\n\",confusion_matrix(y_test, y_pred))\n",
    "print()\n",
    "print(\"Classification Report: - \\n\",classification_report(y_test, y_pred,target_names=name))\n",
    "print(\"Recall:\", svm_r)\n",
    "print(\"Precision:\", svm_p)\n",
    "print(\"F1 score:\", svm_f)"
   ]
  },
  {
   "cell_type": "markdown",
   "metadata": {},
   "source": [
    "### 6. AdaBoost"
   ]
  },
  {
   "cell_type": "code",
   "execution_count": 79,
   "metadata": {},
   "outputs": [
    {
     "name": "stdout",
     "output_type": "stream",
     "text": [
      "Execution time: 1.9867198467254639 sec\n"
     ]
    }
   ],
   "source": [
    "start_time = time.time()\n",
    "adb_model = AdaBoostClassifier()\n",
    "# feeding the training data into the model\n",
    "adb_model.fit(X_train, y_train)\n",
    "print(\"Execution time: \" + str((time.time() - start_time)) + ' sec')"
   ]
  },
  {
   "cell_type": "code",
   "execution_count": 80,
   "metadata": {},
   "outputs": [
    {
     "name": "stdout",
     "output_type": "stream",
     "text": [
      "Confusion Matrix: - \n",
      " [[   0    0   37]\n",
      " [   0    0  363]\n",
      " [   0    0 2064]]\n",
      "\n",
      "Classification Report: - \n",
      "               precision    recall  f1-score   support\n",
      "\n",
      "       Fatal       0.00      0.00      0.00        37\n",
      "     Serious       0.00      0.00      0.00       363\n",
      "      Slight       0.84      1.00      0.91      2064\n",
      "\n",
      "    accuracy                           0.84      2464\n",
      "   macro avg       0.28      0.33      0.30      2464\n",
      "weighted avg       0.70      0.84      0.76      2464\n",
      "\n",
      "Recall: 0.3333333333333333\n",
      "Precision: 0.2792207792207792\n",
      "F1 score: 0.303886925795053\n"
     ]
    },
    {
     "name": "stderr",
     "output_type": "stream",
     "text": [
      "C:\\Users\\Lenvo\\anaconda3\\lib\\site-packages\\sklearn\\metrics\\_classification.py:1221: UndefinedMetricWarning:\n",
      "\n",
      "Precision is ill-defined and being set to 0.0 in labels with no predicted samples. Use `zero_division` parameter to control this behavior.\n",
      "\n",
      "C:\\Users\\Lenvo\\anaconda3\\lib\\site-packages\\sklearn\\metrics\\_classification.py:1221: UndefinedMetricWarning:\n",
      "\n",
      "Precision and F-score are ill-defined and being set to 0.0 in labels with no predicted samples. Use `zero_division` parameter to control this behavior.\n",
      "\n"
     ]
    }
   ],
   "source": [
    "# predicting the values for x-test\n",
    "y_pred = adb_model.predict(X_test)\n",
    "# finding the training and testing accuracy\n",
    "name = ['Fatal','Serious','Slight']\n",
    "adb_r=recall_score(y_test,y_pred, average='macro')\n",
    "adb_p=precision_score(y_test,y_pred, average='macro')\n",
    "adb_f=f1_score(y_test,y_pred, average='macro')\n",
    "print(\"Confusion Matrix: - \\n\",confusion_matrix(y_test, y_pred))\n",
    "print()\n",
    "print(\"Classification Report: - \\n\",classification_report(y_test, y_pred,target_names=name))\n",
    "print(\"Recall:\", adb_r)\n",
    "print(\"Precision:\", adb_p)\n",
    "print(\"F1 score:\", adb_f)"
   ]
  },
  {
   "cell_type": "markdown",
   "metadata": {},
   "source": [
    "### 7. Random Forest"
   ]
  },
  {
   "cell_type": "code",
   "execution_count": 81,
   "metadata": {},
   "outputs": [
    {
     "name": "stdout",
     "output_type": "stream",
     "text": [
      "Execution time: 0.6981334686279297 sec\n"
     ]
    }
   ],
   "source": [
    "start_time = time.time()\n",
    "RF_model = RandomForestClassifier(class_weight='balanced', max_depth=2, random_state=42)\n",
    "# feeding the training data into the model\n",
    "RF_model.fit(X_train, y_train)\n",
    "print(\"Execution time: \" + str((time.time() - start_time)) + ' sec')"
   ]
  },
  {
   "cell_type": "code",
   "execution_count": 82,
   "metadata": {},
   "outputs": [
    {
     "name": "stdout",
     "output_type": "stream",
     "text": [
      "Confusion Matrix: - \n",
      " [[ 14  12  11]\n",
      " [111 109 143]\n",
      " [561 586 917]]\n",
      "\n",
      "Classification Report: - \n",
      "               precision    recall  f1-score   support\n",
      "\n",
      "       Fatal       0.02      0.38      0.04        37\n",
      "     Serious       0.15      0.30      0.20       363\n",
      "      Slight       0.86      0.44      0.59      2064\n",
      "\n",
      "    accuracy                           0.42      2464\n",
      "   macro avg       0.34      0.37      0.28      2464\n",
      "weighted avg       0.74      0.42      0.52      2464\n",
      "\n",
      "Recall: 0.3743122687361588\n",
      "Precision: 0.3435966245684192\n",
      "F1 score: 0.2758246054811236\n"
     ]
    }
   ],
   "source": [
    "# predicting the values for x-test\n",
    "y_pred = RF_model.predict(X_test)\n",
    "# finding the training and testing accuracy\n",
    "name = ['Fatal','Serious','Slight']\n",
    "RF_r=recall_score(y_test,y_pred, average='macro')\n",
    "RF_p=precision_score(y_test,y_pred, average='macro')\n",
    "RF_f=f1_score(y_test,y_pred, average='macro')\n",
    "print(\"Confusion Matrix: - \\n\",confusion_matrix(y_test, y_pred))\n",
    "print()\n",
    "print(\"Classification Report: - \\n\",classification_report(y_test, y_pred,target_names=name))\n",
    "print(\"Recall:\", RF_r)\n",
    "print(\"Precision:\", RF_p)\n",
    "print(\"F1 score:\", RF_f)"
   ]
  },
  {
   "cell_type": "code",
   "execution_count": 83,
   "metadata": {},
   "outputs": [
    {
     "data": {
      "application/vnd.plotly.v1+json": {
       "config": {
        "plotlyServerURL": "https://plot.ly"
       },
       "data": [
        {
         "name": "recall_score",
         "type": "bar",
         "x": [
          "Logistic Regression",
          "Naive Bayes Classifier",
          "Decision Tree Classifier",
          "K-Nearest Neighbor",
          "Support Vector Machine",
          "AdaBoost",
          "Random Forest Classifier"
         ],
         "y": [
          0.29579411018457047,
          0.07679797314874669,
          0.34934601660022735,
          0.31462907280254776,
          0.34624737075607115,
          0.303886925795053,
          0.2758246054811236
         ]
        }
       ],
       "layout": {
        "template": {
         "data": {
          "bar": [
           {
            "error_x": {
             "color": "#2a3f5f"
            },
            "error_y": {
             "color": "#2a3f5f"
            },
            "marker": {
             "line": {
              "color": "#E5ECF6",
              "width": 0.5
             }
            },
            "type": "bar"
           }
          ],
          "barpolar": [
           {
            "marker": {
             "line": {
              "color": "#E5ECF6",
              "width": 0.5
             }
            },
            "type": "barpolar"
           }
          ],
          "carpet": [
           {
            "aaxis": {
             "endlinecolor": "#2a3f5f",
             "gridcolor": "white",
             "linecolor": "white",
             "minorgridcolor": "white",
             "startlinecolor": "#2a3f5f"
            },
            "baxis": {
             "endlinecolor": "#2a3f5f",
             "gridcolor": "white",
             "linecolor": "white",
             "minorgridcolor": "white",
             "startlinecolor": "#2a3f5f"
            },
            "type": "carpet"
           }
          ],
          "choropleth": [
           {
            "colorbar": {
             "outlinewidth": 0,
             "ticks": ""
            },
            "type": "choropleth"
           }
          ],
          "contour": [
           {
            "colorbar": {
             "outlinewidth": 0,
             "ticks": ""
            },
            "colorscale": [
             [
              0,
              "#0d0887"
             ],
             [
              0.1111111111111111,
              "#46039f"
             ],
             [
              0.2222222222222222,
              "#7201a8"
             ],
             [
              0.3333333333333333,
              "#9c179e"
             ],
             [
              0.4444444444444444,
              "#bd3786"
             ],
             [
              0.5555555555555556,
              "#d8576b"
             ],
             [
              0.6666666666666666,
              "#ed7953"
             ],
             [
              0.7777777777777778,
              "#fb9f3a"
             ],
             [
              0.8888888888888888,
              "#fdca26"
             ],
             [
              1,
              "#f0f921"
             ]
            ],
            "type": "contour"
           }
          ],
          "contourcarpet": [
           {
            "colorbar": {
             "outlinewidth": 0,
             "ticks": ""
            },
            "type": "contourcarpet"
           }
          ],
          "heatmap": [
           {
            "colorbar": {
             "outlinewidth": 0,
             "ticks": ""
            },
            "colorscale": [
             [
              0,
              "#0d0887"
             ],
             [
              0.1111111111111111,
              "#46039f"
             ],
             [
              0.2222222222222222,
              "#7201a8"
             ],
             [
              0.3333333333333333,
              "#9c179e"
             ],
             [
              0.4444444444444444,
              "#bd3786"
             ],
             [
              0.5555555555555556,
              "#d8576b"
             ],
             [
              0.6666666666666666,
              "#ed7953"
             ],
             [
              0.7777777777777778,
              "#fb9f3a"
             ],
             [
              0.8888888888888888,
              "#fdca26"
             ],
             [
              1,
              "#f0f921"
             ]
            ],
            "type": "heatmap"
           }
          ],
          "heatmapgl": [
           {
            "colorbar": {
             "outlinewidth": 0,
             "ticks": ""
            },
            "colorscale": [
             [
              0,
              "#0d0887"
             ],
             [
              0.1111111111111111,
              "#46039f"
             ],
             [
              0.2222222222222222,
              "#7201a8"
             ],
             [
              0.3333333333333333,
              "#9c179e"
             ],
             [
              0.4444444444444444,
              "#bd3786"
             ],
             [
              0.5555555555555556,
              "#d8576b"
             ],
             [
              0.6666666666666666,
              "#ed7953"
             ],
             [
              0.7777777777777778,
              "#fb9f3a"
             ],
             [
              0.8888888888888888,
              "#fdca26"
             ],
             [
              1,
              "#f0f921"
             ]
            ],
            "type": "heatmapgl"
           }
          ],
          "histogram": [
           {
            "marker": {
             "colorbar": {
              "outlinewidth": 0,
              "ticks": ""
             }
            },
            "type": "histogram"
           }
          ],
          "histogram2d": [
           {
            "colorbar": {
             "outlinewidth": 0,
             "ticks": ""
            },
            "colorscale": [
             [
              0,
              "#0d0887"
             ],
             [
              0.1111111111111111,
              "#46039f"
             ],
             [
              0.2222222222222222,
              "#7201a8"
             ],
             [
              0.3333333333333333,
              "#9c179e"
             ],
             [
              0.4444444444444444,
              "#bd3786"
             ],
             [
              0.5555555555555556,
              "#d8576b"
             ],
             [
              0.6666666666666666,
              "#ed7953"
             ],
             [
              0.7777777777777778,
              "#fb9f3a"
             ],
             [
              0.8888888888888888,
              "#fdca26"
             ],
             [
              1,
              "#f0f921"
             ]
            ],
            "type": "histogram2d"
           }
          ],
          "histogram2dcontour": [
           {
            "colorbar": {
             "outlinewidth": 0,
             "ticks": ""
            },
            "colorscale": [
             [
              0,
              "#0d0887"
             ],
             [
              0.1111111111111111,
              "#46039f"
             ],
             [
              0.2222222222222222,
              "#7201a8"
             ],
             [
              0.3333333333333333,
              "#9c179e"
             ],
             [
              0.4444444444444444,
              "#bd3786"
             ],
             [
              0.5555555555555556,
              "#d8576b"
             ],
             [
              0.6666666666666666,
              "#ed7953"
             ],
             [
              0.7777777777777778,
              "#fb9f3a"
             ],
             [
              0.8888888888888888,
              "#fdca26"
             ],
             [
              1,
              "#f0f921"
             ]
            ],
            "type": "histogram2dcontour"
           }
          ],
          "mesh3d": [
           {
            "colorbar": {
             "outlinewidth": 0,
             "ticks": ""
            },
            "type": "mesh3d"
           }
          ],
          "parcoords": [
           {
            "line": {
             "colorbar": {
              "outlinewidth": 0,
              "ticks": ""
             }
            },
            "type": "parcoords"
           }
          ],
          "pie": [
           {
            "automargin": true,
            "type": "pie"
           }
          ],
          "scatter": [
           {
            "marker": {
             "colorbar": {
              "outlinewidth": 0,
              "ticks": ""
             }
            },
            "type": "scatter"
           }
          ],
          "scatter3d": [
           {
            "line": {
             "colorbar": {
              "outlinewidth": 0,
              "ticks": ""
             }
            },
            "marker": {
             "colorbar": {
              "outlinewidth": 0,
              "ticks": ""
             }
            },
            "type": "scatter3d"
           }
          ],
          "scattercarpet": [
           {
            "marker": {
             "colorbar": {
              "outlinewidth": 0,
              "ticks": ""
             }
            },
            "type": "scattercarpet"
           }
          ],
          "scattergeo": [
           {
            "marker": {
             "colorbar": {
              "outlinewidth": 0,
              "ticks": ""
             }
            },
            "type": "scattergeo"
           }
          ],
          "scattergl": [
           {
            "marker": {
             "colorbar": {
              "outlinewidth": 0,
              "ticks": ""
             }
            },
            "type": "scattergl"
           }
          ],
          "scattermapbox": [
           {
            "marker": {
             "colorbar": {
              "outlinewidth": 0,
              "ticks": ""
             }
            },
            "type": "scattermapbox"
           }
          ],
          "scatterpolar": [
           {
            "marker": {
             "colorbar": {
              "outlinewidth": 0,
              "ticks": ""
             }
            },
            "type": "scatterpolar"
           }
          ],
          "scatterpolargl": [
           {
            "marker": {
             "colorbar": {
              "outlinewidth": 0,
              "ticks": ""
             }
            },
            "type": "scatterpolargl"
           }
          ],
          "scatterternary": [
           {
            "marker": {
             "colorbar": {
              "outlinewidth": 0,
              "ticks": ""
             }
            },
            "type": "scatterternary"
           }
          ],
          "surface": [
           {
            "colorbar": {
             "outlinewidth": 0,
             "ticks": ""
            },
            "colorscale": [
             [
              0,
              "#0d0887"
             ],
             [
              0.1111111111111111,
              "#46039f"
             ],
             [
              0.2222222222222222,
              "#7201a8"
             ],
             [
              0.3333333333333333,
              "#9c179e"
             ],
             [
              0.4444444444444444,
              "#bd3786"
             ],
             [
              0.5555555555555556,
              "#d8576b"
             ],
             [
              0.6666666666666666,
              "#ed7953"
             ],
             [
              0.7777777777777778,
              "#fb9f3a"
             ],
             [
              0.8888888888888888,
              "#fdca26"
             ],
             [
              1,
              "#f0f921"
             ]
            ],
            "type": "surface"
           }
          ],
          "table": [
           {
            "cells": {
             "fill": {
              "color": "#EBF0F8"
             },
             "line": {
              "color": "white"
             }
            },
            "header": {
             "fill": {
              "color": "#C8D4E3"
             },
             "line": {
              "color": "white"
             }
            },
            "type": "table"
           }
          ]
         },
         "layout": {
          "annotationdefaults": {
           "arrowcolor": "#2a3f5f",
           "arrowhead": 0,
           "arrowwidth": 1
          },
          "coloraxis": {
           "colorbar": {
            "outlinewidth": 0,
            "ticks": ""
           }
          },
          "colorscale": {
           "diverging": [
            [
             0,
             "#8e0152"
            ],
            [
             0.1,
             "#c51b7d"
            ],
            [
             0.2,
             "#de77ae"
            ],
            [
             0.3,
             "#f1b6da"
            ],
            [
             0.4,
             "#fde0ef"
            ],
            [
             0.5,
             "#f7f7f7"
            ],
            [
             0.6,
             "#e6f5d0"
            ],
            [
             0.7,
             "#b8e186"
            ],
            [
             0.8,
             "#7fbc41"
            ],
            [
             0.9,
             "#4d9221"
            ],
            [
             1,
             "#276419"
            ]
           ],
           "sequential": [
            [
             0,
             "#0d0887"
            ],
            [
             0.1111111111111111,
             "#46039f"
            ],
            [
             0.2222222222222222,
             "#7201a8"
            ],
            [
             0.3333333333333333,
             "#9c179e"
            ],
            [
             0.4444444444444444,
             "#bd3786"
            ],
            [
             0.5555555555555556,
             "#d8576b"
            ],
            [
             0.6666666666666666,
             "#ed7953"
            ],
            [
             0.7777777777777778,
             "#fb9f3a"
            ],
            [
             0.8888888888888888,
             "#fdca26"
            ],
            [
             1,
             "#f0f921"
            ]
           ],
           "sequentialminus": [
            [
             0,
             "#0d0887"
            ],
            [
             0.1111111111111111,
             "#46039f"
            ],
            [
             0.2222222222222222,
             "#7201a8"
            ],
            [
             0.3333333333333333,
             "#9c179e"
            ],
            [
             0.4444444444444444,
             "#bd3786"
            ],
            [
             0.5555555555555556,
             "#d8576b"
            ],
            [
             0.6666666666666666,
             "#ed7953"
            ],
            [
             0.7777777777777778,
             "#fb9f3a"
            ],
            [
             0.8888888888888888,
             "#fdca26"
            ],
            [
             1,
             "#f0f921"
            ]
           ]
          },
          "colorway": [
           "#636efa",
           "#EF553B",
           "#00cc96",
           "#ab63fa",
           "#FFA15A",
           "#19d3f3",
           "#FF6692",
           "#B6E880",
           "#FF97FF",
           "#FECB52"
          ],
          "font": {
           "color": "#2a3f5f"
          },
          "geo": {
           "bgcolor": "white",
           "lakecolor": "white",
           "landcolor": "#E5ECF6",
           "showlakes": true,
           "showland": true,
           "subunitcolor": "white"
          },
          "hoverlabel": {
           "align": "left"
          },
          "hovermode": "closest",
          "mapbox": {
           "style": "light"
          },
          "paper_bgcolor": "white",
          "plot_bgcolor": "#E5ECF6",
          "polar": {
           "angularaxis": {
            "gridcolor": "white",
            "linecolor": "white",
            "ticks": ""
           },
           "bgcolor": "#E5ECF6",
           "radialaxis": {
            "gridcolor": "white",
            "linecolor": "white",
            "ticks": ""
           }
          },
          "scene": {
           "xaxis": {
            "backgroundcolor": "#E5ECF6",
            "gridcolor": "white",
            "gridwidth": 2,
            "linecolor": "white",
            "showbackground": true,
            "ticks": "",
            "zerolinecolor": "white"
           },
           "yaxis": {
            "backgroundcolor": "#E5ECF6",
            "gridcolor": "white",
            "gridwidth": 2,
            "linecolor": "white",
            "showbackground": true,
            "ticks": "",
            "zerolinecolor": "white"
           },
           "zaxis": {
            "backgroundcolor": "#E5ECF6",
            "gridcolor": "white",
            "gridwidth": 2,
            "linecolor": "white",
            "showbackground": true,
            "ticks": "",
            "zerolinecolor": "white"
           }
          },
          "shapedefaults": {
           "line": {
            "color": "#2a3f5f"
           }
          },
          "ternary": {
           "aaxis": {
            "gridcolor": "white",
            "linecolor": "white",
            "ticks": ""
           },
           "baxis": {
            "gridcolor": "white",
            "linecolor": "white",
            "ticks": ""
           },
           "bgcolor": "#E5ECF6",
           "caxis": {
            "gridcolor": "white",
            "linecolor": "white",
            "ticks": ""
           }
          },
          "title": {
           "x": 0.05
          },
          "xaxis": {
           "automargin": true,
           "gridcolor": "white",
           "linecolor": "white",
           "ticks": "",
           "title": {
            "standoff": 15
           },
           "zerolinecolor": "white",
           "zerolinewidth": 2
          },
          "yaxis": {
           "automargin": true,
           "gridcolor": "white",
           "linecolor": "white",
           "ticks": "",
           "title": {
            "standoff": 15
           },
           "zerolinecolor": "white",
           "zerolinewidth": 2
          }
         }
        }
       }
      },
      "text/html": [
       "<div>                            <div id=\"6fe55b35-c55d-4594-b09b-c76bb0213bd6\" class=\"plotly-graph-div\" style=\"height:525px; width:100%;\"></div>            <script type=\"text/javascript\">                require([\"plotly\"], function(Plotly) {                    window.PLOTLYENV=window.PLOTLYENV || {};                                    if (document.getElementById(\"6fe55b35-c55d-4594-b09b-c76bb0213bd6\")) {                    Plotly.newPlot(                        \"6fe55b35-c55d-4594-b09b-c76bb0213bd6\",                        [{\"name\": \"recall_score\", \"type\": \"bar\", \"x\": [\"Logistic Regression\", \"Naive Bayes Classifier\", \"Decision Tree Classifier\", \"K-Nearest Neighbor\", \"Support Vector Machine\", \"AdaBoost\", \"Random Forest Classifier\"], \"y\": [0.29579411018457047, 0.07679797314874669, 0.34934601660022735, 0.31462907280254776, 0.34624737075607115, 0.303886925795053, 0.2758246054811236]}],                        {\"template\": {\"data\": {\"bar\": [{\"error_x\": {\"color\": \"#2a3f5f\"}, \"error_y\": {\"color\": \"#2a3f5f\"}, \"marker\": {\"line\": {\"color\": \"#E5ECF6\", \"width\": 0.5}}, \"type\": \"bar\"}], \"barpolar\": [{\"marker\": {\"line\": {\"color\": \"#E5ECF6\", \"width\": 0.5}}, \"type\": \"barpolar\"}], \"carpet\": [{\"aaxis\": {\"endlinecolor\": \"#2a3f5f\", \"gridcolor\": \"white\", \"linecolor\": \"white\", \"minorgridcolor\": \"white\", \"startlinecolor\": \"#2a3f5f\"}, \"baxis\": {\"endlinecolor\": \"#2a3f5f\", \"gridcolor\": \"white\", \"linecolor\": \"white\", \"minorgridcolor\": \"white\", \"startlinecolor\": \"#2a3f5f\"}, \"type\": \"carpet\"}], \"choropleth\": [{\"colorbar\": {\"outlinewidth\": 0, \"ticks\": \"\"}, \"type\": \"choropleth\"}], \"contour\": [{\"colorbar\": {\"outlinewidth\": 0, \"ticks\": \"\"}, \"colorscale\": [[0.0, \"#0d0887\"], [0.1111111111111111, \"#46039f\"], [0.2222222222222222, \"#7201a8\"], [0.3333333333333333, \"#9c179e\"], [0.4444444444444444, \"#bd3786\"], [0.5555555555555556, \"#d8576b\"], [0.6666666666666666, \"#ed7953\"], [0.7777777777777778, \"#fb9f3a\"], [0.8888888888888888, \"#fdca26\"], [1.0, \"#f0f921\"]], \"type\": \"contour\"}], \"contourcarpet\": [{\"colorbar\": {\"outlinewidth\": 0, \"ticks\": \"\"}, \"type\": \"contourcarpet\"}], \"heatmap\": [{\"colorbar\": {\"outlinewidth\": 0, \"ticks\": \"\"}, \"colorscale\": [[0.0, \"#0d0887\"], [0.1111111111111111, \"#46039f\"], [0.2222222222222222, \"#7201a8\"], [0.3333333333333333, \"#9c179e\"], [0.4444444444444444, \"#bd3786\"], [0.5555555555555556, \"#d8576b\"], [0.6666666666666666, \"#ed7953\"], [0.7777777777777778, \"#fb9f3a\"], [0.8888888888888888, \"#fdca26\"], [1.0, \"#f0f921\"]], \"type\": \"heatmap\"}], \"heatmapgl\": [{\"colorbar\": {\"outlinewidth\": 0, \"ticks\": \"\"}, \"colorscale\": [[0.0, \"#0d0887\"], [0.1111111111111111, \"#46039f\"], [0.2222222222222222, \"#7201a8\"], [0.3333333333333333, \"#9c179e\"], [0.4444444444444444, \"#bd3786\"], [0.5555555555555556, \"#d8576b\"], [0.6666666666666666, \"#ed7953\"], [0.7777777777777778, \"#fb9f3a\"], [0.8888888888888888, \"#fdca26\"], [1.0, \"#f0f921\"]], \"type\": \"heatmapgl\"}], \"histogram\": [{\"marker\": {\"colorbar\": {\"outlinewidth\": 0, \"ticks\": \"\"}}, \"type\": \"histogram\"}], \"histogram2d\": [{\"colorbar\": {\"outlinewidth\": 0, \"ticks\": \"\"}, \"colorscale\": [[0.0, \"#0d0887\"], [0.1111111111111111, \"#46039f\"], [0.2222222222222222, \"#7201a8\"], [0.3333333333333333, \"#9c179e\"], [0.4444444444444444, \"#bd3786\"], [0.5555555555555556, \"#d8576b\"], [0.6666666666666666, \"#ed7953\"], [0.7777777777777778, \"#fb9f3a\"], [0.8888888888888888, \"#fdca26\"], [1.0, \"#f0f921\"]], \"type\": \"histogram2d\"}], \"histogram2dcontour\": [{\"colorbar\": {\"outlinewidth\": 0, \"ticks\": \"\"}, \"colorscale\": [[0.0, \"#0d0887\"], [0.1111111111111111, \"#46039f\"], [0.2222222222222222, \"#7201a8\"], [0.3333333333333333, \"#9c179e\"], [0.4444444444444444, \"#bd3786\"], [0.5555555555555556, \"#d8576b\"], [0.6666666666666666, \"#ed7953\"], [0.7777777777777778, \"#fb9f3a\"], [0.8888888888888888, \"#fdca26\"], [1.0, \"#f0f921\"]], \"type\": \"histogram2dcontour\"}], \"mesh3d\": [{\"colorbar\": {\"outlinewidth\": 0, \"ticks\": \"\"}, \"type\": \"mesh3d\"}], \"parcoords\": [{\"line\": {\"colorbar\": {\"outlinewidth\": 0, \"ticks\": \"\"}}, \"type\": \"parcoords\"}], \"pie\": [{\"automargin\": true, \"type\": \"pie\"}], \"scatter\": [{\"marker\": {\"colorbar\": {\"outlinewidth\": 0, \"ticks\": \"\"}}, \"type\": \"scatter\"}], \"scatter3d\": [{\"line\": {\"colorbar\": {\"outlinewidth\": 0, \"ticks\": \"\"}}, \"marker\": {\"colorbar\": {\"outlinewidth\": 0, \"ticks\": \"\"}}, \"type\": \"scatter3d\"}], \"scattercarpet\": [{\"marker\": {\"colorbar\": {\"outlinewidth\": 0, \"ticks\": \"\"}}, \"type\": \"scattercarpet\"}], \"scattergeo\": [{\"marker\": {\"colorbar\": {\"outlinewidth\": 0, \"ticks\": \"\"}}, \"type\": \"scattergeo\"}], \"scattergl\": [{\"marker\": {\"colorbar\": {\"outlinewidth\": 0, \"ticks\": \"\"}}, \"type\": \"scattergl\"}], \"scattermapbox\": [{\"marker\": {\"colorbar\": {\"outlinewidth\": 0, \"ticks\": \"\"}}, \"type\": \"scattermapbox\"}], \"scatterpolar\": [{\"marker\": {\"colorbar\": {\"outlinewidth\": 0, \"ticks\": \"\"}}, \"type\": \"scatterpolar\"}], \"scatterpolargl\": [{\"marker\": {\"colorbar\": {\"outlinewidth\": 0, \"ticks\": \"\"}}, \"type\": \"scatterpolargl\"}], \"scatterternary\": [{\"marker\": {\"colorbar\": {\"outlinewidth\": 0, \"ticks\": \"\"}}, \"type\": \"scatterternary\"}], \"surface\": [{\"colorbar\": {\"outlinewidth\": 0, \"ticks\": \"\"}, \"colorscale\": [[0.0, \"#0d0887\"], [0.1111111111111111, \"#46039f\"], [0.2222222222222222, \"#7201a8\"], [0.3333333333333333, \"#9c179e\"], [0.4444444444444444, \"#bd3786\"], [0.5555555555555556, \"#d8576b\"], [0.6666666666666666, \"#ed7953\"], [0.7777777777777778, \"#fb9f3a\"], [0.8888888888888888, \"#fdca26\"], [1.0, \"#f0f921\"]], \"type\": \"surface\"}], \"table\": [{\"cells\": {\"fill\": {\"color\": \"#EBF0F8\"}, \"line\": {\"color\": \"white\"}}, \"header\": {\"fill\": {\"color\": \"#C8D4E3\"}, \"line\": {\"color\": \"white\"}}, \"type\": \"table\"}]}, \"layout\": {\"annotationdefaults\": {\"arrowcolor\": \"#2a3f5f\", \"arrowhead\": 0, \"arrowwidth\": 1}, \"coloraxis\": {\"colorbar\": {\"outlinewidth\": 0, \"ticks\": \"\"}}, \"colorscale\": {\"diverging\": [[0, \"#8e0152\"], [0.1, \"#c51b7d\"], [0.2, \"#de77ae\"], [0.3, \"#f1b6da\"], [0.4, \"#fde0ef\"], [0.5, \"#f7f7f7\"], [0.6, \"#e6f5d0\"], [0.7, \"#b8e186\"], [0.8, \"#7fbc41\"], [0.9, \"#4d9221\"], [1, \"#276419\"]], \"sequential\": [[0.0, \"#0d0887\"], [0.1111111111111111, \"#46039f\"], [0.2222222222222222, \"#7201a8\"], [0.3333333333333333, \"#9c179e\"], [0.4444444444444444, \"#bd3786\"], [0.5555555555555556, \"#d8576b\"], [0.6666666666666666, \"#ed7953\"], [0.7777777777777778, \"#fb9f3a\"], [0.8888888888888888, \"#fdca26\"], [1.0, \"#f0f921\"]], \"sequentialminus\": [[0.0, \"#0d0887\"], [0.1111111111111111, \"#46039f\"], [0.2222222222222222, \"#7201a8\"], [0.3333333333333333, \"#9c179e\"], [0.4444444444444444, \"#bd3786\"], [0.5555555555555556, \"#d8576b\"], [0.6666666666666666, \"#ed7953\"], [0.7777777777777778, \"#fb9f3a\"], [0.8888888888888888, \"#fdca26\"], [1.0, \"#f0f921\"]]}, \"colorway\": [\"#636efa\", \"#EF553B\", \"#00cc96\", \"#ab63fa\", \"#FFA15A\", \"#19d3f3\", \"#FF6692\", \"#B6E880\", \"#FF97FF\", \"#FECB52\"], \"font\": {\"color\": \"#2a3f5f\"}, \"geo\": {\"bgcolor\": \"white\", \"lakecolor\": \"white\", \"landcolor\": \"#E5ECF6\", \"showlakes\": true, \"showland\": true, \"subunitcolor\": \"white\"}, \"hoverlabel\": {\"align\": \"left\"}, \"hovermode\": \"closest\", \"mapbox\": {\"style\": \"light\"}, \"paper_bgcolor\": \"white\", \"plot_bgcolor\": \"#E5ECF6\", \"polar\": {\"angularaxis\": {\"gridcolor\": \"white\", \"linecolor\": \"white\", \"ticks\": \"\"}, \"bgcolor\": \"#E5ECF6\", \"radialaxis\": {\"gridcolor\": \"white\", \"linecolor\": \"white\", \"ticks\": \"\"}}, \"scene\": {\"xaxis\": {\"backgroundcolor\": \"#E5ECF6\", \"gridcolor\": \"white\", \"gridwidth\": 2, \"linecolor\": \"white\", \"showbackground\": true, \"ticks\": \"\", \"zerolinecolor\": \"white\"}, \"yaxis\": {\"backgroundcolor\": \"#E5ECF6\", \"gridcolor\": \"white\", \"gridwidth\": 2, \"linecolor\": \"white\", \"showbackground\": true, \"ticks\": \"\", \"zerolinecolor\": \"white\"}, \"zaxis\": {\"backgroundcolor\": \"#E5ECF6\", \"gridcolor\": \"white\", \"gridwidth\": 2, \"linecolor\": \"white\", \"showbackground\": true, \"ticks\": \"\", \"zerolinecolor\": \"white\"}}, \"shapedefaults\": {\"line\": {\"color\": \"#2a3f5f\"}}, \"ternary\": {\"aaxis\": {\"gridcolor\": \"white\", \"linecolor\": \"white\", \"ticks\": \"\"}, \"baxis\": {\"gridcolor\": \"white\", \"linecolor\": \"white\", \"ticks\": \"\"}, \"bgcolor\": \"#E5ECF6\", \"caxis\": {\"gridcolor\": \"white\", \"linecolor\": \"white\", \"ticks\": \"\"}}, \"title\": {\"x\": 0.05}, \"xaxis\": {\"automargin\": true, \"gridcolor\": \"white\", \"linecolor\": \"white\", \"ticks\": \"\", \"title\": {\"standoff\": 15}, \"zerolinecolor\": \"white\", \"zerolinewidth\": 2}, \"yaxis\": {\"automargin\": true, \"gridcolor\": \"white\", \"linecolor\": \"white\", \"ticks\": \"\", \"title\": {\"standoff\": 15}, \"zerolinecolor\": \"white\", \"zerolinewidth\": 2}}}},                        {\"responsive\": true}                    ).then(function(){\n",
       "                            \n",
       "var gd = document.getElementById('6fe55b35-c55d-4594-b09b-c76bb0213bd6');\n",
       "var x = new MutationObserver(function (mutations, observer) {{\n",
       "        var display = window.getComputedStyle(gd).display;\n",
       "        if (!display || display === 'none') {{\n",
       "            console.log([gd, 'removed!']);\n",
       "            Plotly.purge(gd);\n",
       "            observer.disconnect();\n",
       "        }}\n",
       "}});\n",
       "\n",
       "// Listen for the removal of the full notebook cells\n",
       "var notebookContainer = gd.closest('#notebook-container');\n",
       "if (notebookContainer) {{\n",
       "    x.observe(notebookContainer, {childList: true});\n",
       "}}\n",
       "\n",
       "// Listen for the clearing of the current output cell\n",
       "var outputEl = gd.closest('.output');\n",
       "if (outputEl) {{\n",
       "    x.observe(outputEl, {childList: true});\n",
       "}}\n",
       "\n",
       "                        })                };                });            </script>        </div>"
      ]
     },
     "metadata": {},
     "output_type": "display_data"
    },
    {
     "data": {
      "text/plain": [
       "<Figure size 360x720 with 0 Axes>"
      ]
     },
     "metadata": {},
     "output_type": "display_data"
    }
   ],
   "source": [
    "%matplotlib inline\n",
    "fig = plt.figure(figsize=(5, 10))\n",
    "models=['Logistic Regression','Naive Bayes Classifier','Decision Tree Classifier','K-Nearest Neighbor','Support Vector Machine','AdaBoost','Random Forest Classifier']\n",
    "fig = go.Figure(data=[go.Bar(name='recall_score', x=models, y=[LR_f,NB_f,DT_f,knn_f,svm_f,adb_f,RF_f])])\n",
    "fig.show()"
   ]
  }
 ],
 "metadata": {
  "kernelspec": {
   "display_name": "Python 3",
   "language": "python",
   "name": "python3"
  },
  "language_info": {
   "codemirror_mode": {
    "name": "ipython",
    "version": 3
   },
   "file_extension": ".py",
   "mimetype": "text/x-python",
   "name": "python",
   "nbconvert_exporter": "python",
   "pygments_lexer": "ipython3",
   "version": "3.7.6"
  }
 },
 "nbformat": 4,
 "nbformat_minor": 4
}
