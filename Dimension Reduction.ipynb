{
 "cells": [
  {
   "cell_type": "code",
   "execution_count": 1,
   "metadata": {},
   "outputs": [],
   "source": [
    "##Importing Libraries\n",
    "import pandas as pd\n",
    "import numpy as np\n",
    "import seaborn as sns\n",
    "import sklearn\n",
    "import matplotlib.pyplot as plt \n",
    "import plotly.offline as py\n",
    "from sklearn.decomposition import PCA\n",
    "from sklearn.model_selection import cross_val_score, train_test_split,GridSearchCV, KFold\n",
    "from sklearn.metrics import accuracy_score,confusion_matrix,classification_report,roc_auc_score,roc_curve,f1_score,recall_score,precision_score\n",
    "from sklearn.exceptions import ConvergenceWarning\n",
    "from sklearn.naive_bayes import GaussianNB\n",
    "from sklearn.ensemble import RandomForestClassifier\n",
    "from imblearn.over_sampling import SMOTE\n",
    "from collections import Counter\n",
    "import time             "
   ]
  },
  {
   "cell_type": "code",
   "execution_count": 2,
   "metadata": {},
   "outputs": [],
   "source": [
    "## For ignoring warnings to view clean output\n",
    "import warnings\n",
    "warnings.filterwarnings(\"ignore\", category=FutureWarning)\n",
    "warnings.filterwarnings(\"ignore\", category=ConvergenceWarning)\n",
    "warnings.filterwarnings(\"ignore\", category=DeprecationWarning)"
   ]
  },
  {
   "cell_type": "code",
   "execution_count": 6,
   "metadata": {},
   "outputs": [],
   "source": [
    "## Importing the dataset\n",
    "data = pd.read_csv('Data/cleaned.csv',header=0)"
   ]
  },
  {
   "cell_type": "code",
   "execution_count": 7,
   "metadata": {},
   "outputs": [],
   "source": [
    "### Separating Independent and Dependent features\n",
    "X = data.iloc[:,:-1]\n",
    "y = data.iloc[:, 14]"
   ]
  },
  {
   "cell_type": "code",
   "execution_count": 9,
   "metadata": {},
   "outputs": [],
   "source": [
    "X = pd.get_dummies(X, drop_first=True)"
   ]
  },
  {
   "cell_type": "code",
   "execution_count": 10,
   "metadata": {},
   "outputs": [],
   "source": [
    "from sklearn.preprocessing import StandardScaler\n",
    "scaler = StandardScaler()\n",
    "X = scaler.fit_transform(X)"
   ]
  },
  {
   "cell_type": "code",
   "execution_count": 11,
   "metadata": {},
   "outputs": [
    {
     "name": "stdout",
     "output_type": "stream",
     "text": [
      "Mean of the dataset:  0.0\n",
      "Standard deviation of the dataset:  1.0\n"
     ]
    }
   ],
   "source": [
    "print(\"Mean of the dataset: \", np.mean(X).round(8))\n",
    "print(\"Standard deviation of the dataset: \", np.std(X).round(8))"
   ]
  },
  {
   "cell_type": "markdown",
   "metadata": {},
   "source": [
    "### Data Transformation\n",
    "#### Handling Categorical Variables - Creating Dummy Variables"
   ]
  },
  {
   "cell_type": "code",
   "execution_count": null,
   "metadata": {},
   "outputs": [],
   "source": [
    "# Shows the columns with their number of categories each variable is having\n",
    "for col in data.columns:\n",
    "    print(col, ':', len(data[col].unique()), 'categories')"
   ]
  },
  {
   "cell_type": "code",
   "execution_count": null,
   "metadata": {},
   "outputs": [],
   "source": [
    "pd.get_dummies(data,drop_first=True).shape"
   ]
  },
  {
   "cell_type": "code",
   "execution_count": null,
   "metadata": {},
   "outputs": [],
   "source": [
    "X = pd.get_dummies(X, drop_first=True)"
   ]
  },
  {
   "cell_type": "code",
   "execution_count": null,
   "metadata": {},
   "outputs": [],
   "source": [
    "X.shape"
   ]
  },
  {
   "cell_type": "markdown",
   "metadata": {},
   "source": [
    "### Handling Class imbalance"
   ]
  },
  {
   "cell_type": "code",
   "execution_count": null,
   "metadata": {},
   "outputs": [],
   "source": [
    "print('Slight Injury: ' + str(round(data['Accident_severity'].value_counts()[2] / len(data) * 100, 2)) + '%\\nSerious Injury: ' + \n",
    "      str(round(data['Accident_severity'].value_counts()[1] / len(data) * 100, 2))  + '%\\nFatal Injury: ' + \n",
    "      str(round(data['Accident_severity'].value_counts()[0] / len(data) * 100, 2)) + '%')"
   ]
  },
  {
   "cell_type": "markdown",
   "metadata": {},
   "source": [
    "#### SMOTE Oversampling Techniques for handling imbalanced dataset"
   ]
  },
  {
   "cell_type": "code",
   "execution_count": 12,
   "metadata": {},
   "outputs": [],
   "source": [
    "# Oversampling\n",
    "sm = SMOTE(random_state=0)\n",
    "X_over, y_over = sm.fit_sample(X, y)\n",
    "## train test split\n",
    "X_train_over,X_test_over,y_train_over,y_test_over = train_test_split(X_over,y_over,test_size=0.2,random_state=42)\n",
    "#setting 20% aside as validation data for cross validation\n",
    "x_train_t, x_train_v, y_train_t, y_train_v = train_test_split(X_train_over, y_train_over, test_size = 0.2, random_state = 42)"
   ]
  },
  {
   "cell_type": "code",
   "execution_count": 13,
   "metadata": {},
   "outputs": [
    {
     "data": {
      "text/plain": [
       "2    10415\n",
       "1    10415\n",
       "0    10415\n",
       "Name: Accident_severity, dtype: int64"
      ]
     },
     "execution_count": 13,
     "metadata": {},
     "output_type": "execute_result"
    }
   ],
   "source": [
    "# Print class frequencies \n",
    "pd.Series(y_over).value_counts()"
   ]
  },
  {
   "cell_type": "code",
   "execution_count": 14,
   "metadata": {},
   "outputs": [
    {
     "name": "stdout",
     "output_type": "stream",
     "text": [
      "(24996, 99)\n",
      "(6249, 99)\n",
      "(24996,)\n",
      "(6249,)\n"
     ]
    }
   ],
   "source": [
    "# print the shapes of our training and test set \n",
    "print(X_train_over.shape)\n",
    "print(X_test_over.shape)\n",
    "print(y_train_over.shape)\n",
    "print(y_test_over.shape)"
   ]
  },
  {
   "cell_type": "code",
   "execution_count": 15,
   "metadata": {},
   "outputs": [
    {
     "data": {
      "text/plain": [
       "1    2100\n",
       "0    2085\n",
       "2    2064\n",
       "Name: Accident_severity, dtype: int64"
      ]
     },
     "execution_count": 15,
     "metadata": {},
     "output_type": "execute_result"
    }
   ],
   "source": [
    "y_test_over.value_counts()"
   ]
  },
  {
   "cell_type": "markdown",
   "metadata": {},
   "source": [
    "#### Random Forest Without Hyperparameter Tuning"
   ]
  },
  {
   "cell_type": "code",
   "execution_count": 16,
   "metadata": {},
   "outputs": [
    {
     "name": "stdout",
     "output_type": "stream",
     "text": [
      "Execution time: 6.875914096832275 sec\n"
     ]
    }
   ],
   "source": [
    "start_time = time.time()\n",
    "RF_model = RandomForestClassifier()\n",
    "# feeding the training data into the model\n",
    "RF_model.fit(X_train_over, y_train_over)\n",
    "print(\"Execution time: \" + str((time.time() - start_time)) + ' sec')"
   ]
  },
  {
   "cell_type": "code",
   "execution_count": 17,
   "metadata": {},
   "outputs": [
    {
     "name": "stdout",
     "output_type": "stream",
     "text": [
      "Confusion Matrix: - \n",
      " [[2056    3   26]\n",
      " [   4 1734  362]\n",
      " [   0   46 2018]]\n",
      "\n",
      "Classification Report: - \n",
      "               precision    recall  f1-score   support\n",
      "\n",
      "       Fatal       1.00      0.99      0.99      2085\n",
      "     Serious       0.97      0.83      0.89      2100\n",
      "      Slight       0.84      0.98      0.90      2064\n",
      "\n",
      "    accuracy                           0.93      6249\n",
      "   macro avg       0.94      0.93      0.93      6249\n",
      "weighted avg       0.94      0.93      0.93      6249\n",
      "\n",
      "Recall: 0.9298395303690602\n",
      "Precision: 0.9364376574121245\n",
      "F1 score: 0.9293569171408435\n"
     ]
    }
   ],
   "source": [
    "# predicting the values for x-test\n",
    "y_pred = RF_model.predict(X_test_over)\n",
    "# finding the training and testing accuracy\n",
    "name = ['Fatal','Serious','Slight']\n",
    "RF_r=recall_score(y_test_over,y_pred, average='macro')\n",
    "RF_p=precision_score(y_test_over,y_pred, average='macro')\n",
    "RF_f=f1_score(y_test_over,y_pred, average='macro')\n",
    "print(\"Confusion Matrix: - \\n\",confusion_matrix(y_test_over, y_pred))\n",
    "print()\n",
    "print(\"Classification Report: - \\n\",classification_report(y_test_over, y_pred,target_names=name))\n",
    "print(\"Recall:\", RF_r)\n",
    "print(\"Precision:\", RF_p)\n",
    "print(\"F1 score:\", RF_f)"
   ]
  },
  {
   "cell_type": "markdown",
   "metadata": {},
   "source": [
    "###  Random Forest with best hyperparameters"
   ]
  },
  {
   "cell_type": "code",
   "execution_count": 23,
   "metadata": {},
   "outputs": [
    {
     "name": "stdout",
     "output_type": "stream",
     "text": [
      "Execution time: 26.050240993499756 sec\n"
     ]
    }
   ],
   "source": [
    "#Fitting the random forest model with the best hyper parameters obtained through GridSearchCV\n",
    "start_time = time.time()\n",
    "RF_model = RandomForestClassifier(criterion ='gini',max_depth=30,max_features='log2',min_samples_leaf=1, min_samples_split=5, n_estimators=500)\n",
    "RF_model.fit(X_train_over,y_train_over)\n",
    "y_pred_h = RF_model.predict(X_test_over)\n",
    "print(\"Execution time: \" + str((time.time() - start_time)) + ' sec')"
   ]
  },
  {
   "cell_type": "code",
   "execution_count": null,
   "metadata": {},
   "outputs": [],
   "source": [
    "## print the evaluation metrics results\n",
    "name = ['Fatal','Serious','Slight']\n",
    "RF_r=recall_score(y_test_over,y_pred_h, average='macro')\n",
    "RF_p=precision_score(y_test_over,y_pred_h, average='macro')\n",
    "RF_f=f1_score(y_test_over,y_pred_h, average='macro')\n",
    "print(\"Confusion Matrix before PCA: - \\n\",confusion_matrix(y_test_over, y_pred_h))\n",
    "print()\n",
    "print(\"Classification Report before PCA: - \\n\",classification_report(y_test_over, y_pred_h,target_names=name))\n",
    "print(\"F1 score before PCA:\", RF_f)"
   ]
  },
  {
   "cell_type": "markdown",
   "metadata": {},
   "source": [
    "### Dimension Reduction with Principal Componet Analysis (PCA)"
   ]
  },
  {
   "cell_type": "code",
   "execution_count": 25,
   "metadata": {},
   "outputs": [],
   "source": [
    "pca = PCA(.95)\n",
    "pca.fit(X_train_over)\n",
    "Pca_test = pca.transform(X_train_over)"
   ]
  },
  {
   "cell_type": "code",
   "execution_count": 26,
   "metadata": {},
   "outputs": [
    {
     "name": "stdout",
     "output_type": "stream",
     "text": [
      "81\n"
     ]
    }
   ],
   "source": [
    "## Prints the number of Components which will have a total variance of 95%.\n",
    "print(pca.n_components_)"
   ]
  },
  {
   "cell_type": "code",
   "execution_count": 27,
   "metadata": {},
   "outputs": [
    {
     "name": "stdout",
     "output_type": "stream",
     "text": [
      "[2.47475681 1.95700397 1.75257359 1.68767565 1.62995976 1.5677892\n",
      " 1.48511101 1.45660422 1.42915482 1.36729131 1.32908128 1.28272921\n",
      " 1.2440303  1.20294556 1.17667314 1.14455896 1.10881808 1.10106748\n",
      " 1.09144305 1.07576066 1.0685205  1.02851694 1.02089186 1.0057415\n",
      " 0.99915468 0.98257343 0.97046641 0.96738755 0.93413749 0.93090261\n",
      " 0.91956959 0.91309389 0.90725059 0.89076539 0.88364338 0.86952379\n",
      " 0.8587753  0.84944426 0.8353608  0.82941915 0.81948064 0.80970568\n",
      " 0.80540395 0.79934868 0.78596958 0.77901415 0.76964318 0.76648797\n",
      " 0.75364099 0.75075063 0.74707382 0.73793063 0.73143082 0.72162407\n",
      " 0.71993234 0.70966525 0.70577369 0.69477034 0.68873675 0.66727498\n",
      " 0.66563307 0.65518339 0.6515215  0.64658873 0.64234262 0.6409122\n",
      " 0.62429181 0.61225435 0.60890784 0.60200329 0.59404976 0.56204634\n",
      " 0.55536247 0.549481   0.52807758 0.52170687 0.51329187 0.50687754\n",
      " 0.48921996 0.484781   0.47722745]\n"
     ]
    }
   ],
   "source": [
    "## print explained variance\n",
    "print(pca.explained_variance_)"
   ]
  },
  {
   "cell_type": "code",
   "execution_count": 28,
   "metadata": {},
   "outputs": [
    {
     "name": "stdout",
     "output_type": "stream",
     "text": [
      "[0.03164394 0.0250236  0.02240961 0.02157978 0.02084179 0.02004683\n",
      " 0.01898965 0.01862514 0.01827416 0.01748313 0.01699455 0.01640186\n",
      " 0.01590703 0.01538169 0.01504575 0.01463512 0.01417811 0.01407901\n",
      " 0.01395594 0.01375542 0.01366284 0.01315133 0.01305383 0.0128601\n",
      " 0.01277588 0.01256386 0.01240905 0.01236968 0.01194453 0.01190316\n",
      " 0.01175825 0.01167545 0.01160073 0.01138994 0.01129887 0.01111833\n",
      " 0.01098089 0.01086158 0.0106815  0.01060552 0.01047844 0.01035345\n",
      " 0.01029845 0.01022102 0.01004995 0.00996101 0.00984119 0.00980084\n",
      " 0.00963657 0.00959961 0.0095526  0.00943569 0.00935258 0.00922718\n",
      " 0.00920555 0.00907427 0.00902451 0.00888381 0.00880666 0.00853224\n",
      " 0.00851124 0.00837763 0.0083308  0.00826773 0.00821343 0.00819514\n",
      " 0.00798262 0.00782871 0.00778591 0.00769763 0.00759593 0.00718671\n",
      " 0.00710125 0.00702604 0.00675236 0.0066709  0.0065633  0.00648129\n",
      " 0.0062555  0.00619874 0.00610216]\n"
     ]
    }
   ],
   "source": [
    "#shows variance ratio\n",
    "print(pca.explained_variance_ratio_)"
   ]
  },
  {
   "cell_type": "code",
   "execution_count": 29,
   "metadata": {},
   "outputs": [
    {
     "name": "stdout",
     "output_type": "stream",
     "text": [
      "[0.03164394 0.05666754 0.07907716 0.10065694 0.12149873 0.14154556\n",
      " 0.16053521 0.17916035 0.19743451 0.21491764 0.23191219 0.24831405\n",
      " 0.26422107 0.27960276 0.29464852 0.30928364 0.32346175 0.33754075\n",
      " 0.3514967  0.36525211 0.37891495 0.39206628 0.4051201  0.41798021\n",
      " 0.43075609 0.44331995 0.455729   0.46809868 0.48004321 0.49194637\n",
      " 0.50370462 0.51538006 0.52698079 0.53837073 0.54966961 0.56078794\n",
      " 0.57176883 0.58263041 0.59331191 0.60391743 0.61439587 0.62474933\n",
      " 0.63504778 0.6452688  0.65531875 0.66527976 0.67512095 0.68492179\n",
      " 0.69455836 0.70415798 0.71371058 0.72314626 0.73249884 0.74172602\n",
      " 0.75093157 0.76000584 0.76903035 0.77791416 0.78672083 0.79525306\n",
      " 0.80376431 0.81214193 0.82047273 0.82874046 0.8369539  0.84514904\n",
      " 0.85313167 0.86096037 0.86874629 0.87644392 0.88403984 0.89122656\n",
      " 0.8983278  0.90535384 0.91210621 0.91877711 0.92534041 0.9318217\n",
      " 0.9380772  0.94427595 0.95037811]\n"
     ]
    }
   ],
   "source": [
    "## print commulative variance \n",
    "cum = pca.explained_variance_ratio_.cumsum()\n",
    "print(cum)"
   ]
  },
  {
   "cell_type": "markdown",
   "metadata": {},
   "source": [
    "The below dataframe shows the Cumulative Variance Ratio (how much total variance of the data is explained) and the \n",
    "Explained Variance Ratio (how much each PCA component explains the total variance of the data)."
   ]
  },
  {
   "cell_type": "code",
   "execution_count": 34,
   "metadata": {},
   "outputs": [
    {
     "data": {
      "text/html": [
       "<div>\n",
       "<style scoped>\n",
       "    .dataframe tbody tr th:only-of-type {\n",
       "        vertical-align: middle;\n",
       "    }\n",
       "\n",
       "    .dataframe tbody tr th {\n",
       "        vertical-align: top;\n",
       "    }\n",
       "\n",
       "    .dataframe thead th {\n",
       "        text-align: right;\n",
       "    }\n",
       "</style>\n",
       "<table border=\"1\" class=\"dataframe\">\n",
       "  <thead>\n",
       "    <tr style=\"text-align: right;\">\n",
       "      <th></th>\n",
       "      <th>Cumulative Variance Ratio</th>\n",
       "      <th>Explained Variance Ratio</th>\n",
       "    </tr>\n",
       "  </thead>\n",
       "  <tbody>\n",
       "    <tr>\n",
       "      <th>0</th>\n",
       "      <td>0.031644</td>\n",
       "      <td>0.031644</td>\n",
       "    </tr>\n",
       "    <tr>\n",
       "      <th>1</th>\n",
       "      <td>0.056668</td>\n",
       "      <td>0.025024</td>\n",
       "    </tr>\n",
       "    <tr>\n",
       "      <th>2</th>\n",
       "      <td>0.079077</td>\n",
       "      <td>0.022410</td>\n",
       "    </tr>\n",
       "    <tr>\n",
       "      <th>3</th>\n",
       "      <td>0.100657</td>\n",
       "      <td>0.021580</td>\n",
       "    </tr>\n",
       "    <tr>\n",
       "      <th>4</th>\n",
       "      <td>0.121499</td>\n",
       "      <td>0.020842</td>\n",
       "    </tr>\n",
       "    <tr>\n",
       "      <th>5</th>\n",
       "      <td>0.141546</td>\n",
       "      <td>0.020047</td>\n",
       "    </tr>\n",
       "    <tr>\n",
       "      <th>6</th>\n",
       "      <td>0.160535</td>\n",
       "      <td>0.018990</td>\n",
       "    </tr>\n",
       "    <tr>\n",
       "      <th>7</th>\n",
       "      <td>0.179160</td>\n",
       "      <td>0.018625</td>\n",
       "    </tr>\n",
       "    <tr>\n",
       "      <th>8</th>\n",
       "      <td>0.197435</td>\n",
       "      <td>0.018274</td>\n",
       "    </tr>\n",
       "    <tr>\n",
       "      <th>9</th>\n",
       "      <td>0.214918</td>\n",
       "      <td>0.017483</td>\n",
       "    </tr>\n",
       "  </tbody>\n",
       "</table>\n",
       "</div>"
      ],
      "text/plain": [
       "   Cumulative Variance Ratio  Explained Variance Ratio\n",
       "0                   0.031644                  0.031644\n",
       "1                   0.056668                  0.025024\n",
       "2                   0.079077                  0.022410\n",
       "3                   0.100657                  0.021580\n",
       "4                   0.121499                  0.020842\n",
       "5                   0.141546                  0.020047\n",
       "6                   0.160535                  0.018990\n",
       "7                   0.179160                  0.018625\n",
       "8                   0.197435                  0.018274\n",
       "9                   0.214918                  0.017483"
      ]
     },
     "metadata": {},
     "output_type": "display_data"
    }
   ],
   "source": [
    "display(pca_df.head(10))"
   ]
  },
  {
   "cell_type": "code",
   "execution_count": 33,
   "metadata": {},
   "outputs": [
    {
     "data": {
      "image/png": "[encoded data removed]",
      "text/plain": [
       "<Figure size 432x288 with 1 Axes>"
      ]
     },
     "metadata": {},
     "output_type": "display_data"
    },
    {
     "data": {
      "text/plain": [
       "None"
      ]
     },
     "metadata": {},
     "output_type": "display_data"
    }
   ],
   "source": [
    "pca_test = PCA()\n",
    "pca_test.fit(X_train_over)\n",
    "sns.set(style='whitegrid')\n",
    "plt.plot(np.cumsum(pca_test.explained_variance_ratio_))\n",
    "plt.xlabel('number of components')\n",
    "plt.ylabel('cumulative explained variance')\n",
    "plt.axvline(linewidth=4, color='r', linestyle = '--', x=81, ymin=0, ymax=1)\n",
    "plt.axhline(y = 0.95, color='k', linestyle='--', label = '95% Explained Variance')\n",
    "display(plt.show())\n",
    "evr = pca_test.explained_variance_ratio_\n",
    "cvr = np.cumsum(pca_test.explained_variance_ratio_)\n",
    "pca_df = pd.DataFrame()\n",
    "pca_df['Cumulative Variance Ratio'] = cvr\n",
    "pca_df['Explained Variance Ratio'] = evr"
   ]
  },
  {
   "cell_type": "markdown",
   "metadata": {},
   "source": [
    "Looking at the graph above, when we use PCA to reduce our 99 independent variables down to 81 components can still \n",
    "explain over 95% of the variance. The other 19 components explain less than 5% of the variance, so we can cut them. Using this \n",
    "logic, we will use PCA to reduce the number of components from 99 to 81."
   ]
  },
  {
   "cell_type": "code",
   "execution_count": 35,
   "metadata": {},
   "outputs": [],
   "source": [
    "pca = PCA(n_components=81)\n",
    "pca.fit(X_train_over)\n",
    "X_train_pca = pca.transform(X_train_over)\n",
    "X_test_pca = pca.transform(X_test_over)"
   ]
  },
  {
   "cell_type": "code",
   "execution_count": 36,
   "metadata": {},
   "outputs": [
    {
     "name": "stdout",
     "output_type": "stream",
     "text": [
      "Execution time: 130.10434436798096 sec\n"
     ]
    }
   ],
   "source": [
    "#Fitting the random forest model with the reduced number of columns\n",
    "start_time = time.time()\n",
    "RF_model = RandomForestClassifier(criterion ='gini',max_depth=30,max_features='log2',min_samples_leaf=1, min_samples_split=5, n_estimators=500)\n",
    "RF_model.fit(X_train_pca,y_train_over)\n",
    "y_pred = RF_model.predict(X_test_pca)\n",
    "print(\"Execution time: \" + str((time.time() - start_time)) + ' sec')"
   ]
  },
  {
   "cell_type": "code",
   "execution_count": 40,
   "metadata": {},
   "outputs": [
    {
     "name": "stdout",
     "output_type": "stream",
     "text": [
      "Confusion Matrix after PCA: - \n",
      " [[2083    0    2]\n",
      " [  14 1905  181]\n",
      " [  30  161 1873]]\n",
      "\n",
      "Classification Report after PCA: - \n",
      "               precision    recall  f1-score   support\n",
      "\n",
      "       Fatal       0.98      1.00      0.99      2085\n",
      "     Serious       0.92      0.91      0.91      2100\n",
      "      Slight       0.91      0.91      0.91      2064\n",
      "\n",
      "    accuracy                           0.94      6249\n",
      "   macro avg       0.94      0.94      0.94      6249\n",
      "weighted avg       0.94      0.94      0.94      6249\n",
      "\n",
      "F1 score after PCA: 0.9376161502651384\n"
     ]
    }
   ],
   "source": [
    "# finding the training and testing accuracy after applying dimension reduction\n",
    "name = ['Fatal','Serious','Slight']\n",
    "RF_r=recall_score(y_test_over,y_pred, average='macro')\n",
    "RF_p=precision_score(y_test_over,y_pred, average='macro')\n",
    "RF_f=f1_score(y_test_over,y_pred, average='macro')\n",
    "print(\"Confusion Matrix after PCA: - \\n\",confusion_matrix(y_test_over, y_pred))\n",
    "print()\n",
    "print(\"Classification Report after PCA: - \\n\",classification_report(y_test_over, y_pred,target_names=name))\n",
    "print(\"F1 score after PCA:\", RF_f)"
   ]
  },
  {
   "cell_type": "markdown",
   "metadata": {},
   "source": [
    "##### Conclusions:\n",
    "From the above result we can see that afar dimensinality reduction using PCA performance of the model has increased to a certain extent against the one trained before ."
   ]
  }
 ],
 "metadata": {
  "kernelspec": {
   "display_name": "Python 3",
   "language": "python",
   "name": "python3"
  },
  "language_info": {
   "codemirror_mode": {
    "name": "ipython",
    "version": 3
   },
   "file_extension": ".py",
   "mimetype": "text/x-python",
   "name": "python",
   "nbconvert_exporter": "python",
   "pygments_lexer": "ipython3",
   "version": "3.7.6"
  }
 },
 "nbformat": 4,
 "nbformat_minor": 4
}
