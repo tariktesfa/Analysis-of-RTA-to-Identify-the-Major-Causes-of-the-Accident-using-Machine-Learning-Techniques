{
 "cells": [
  {
   "cell_type": "code",
   "execution_count": 1,
   "metadata": {},
   "outputs": [
    {
     "data": {
      "text/html": [
       "        <script type=\"text/javascript\">\n",
       "        window.PlotlyConfig = {MathJaxConfig: 'local'};\n",
       "        if (window.MathJax) {MathJax.Hub.Config({SVG: {font: \"STIX-Web\"}});}\n",
       "        if (typeof require !== 'undefined') {\n",
       "        require.undef(\"plotly\");\n",
       "        requirejs.config({\n",
       "            paths: {\n",
       "                'plotly': ['https://cdn.plot.ly/plotly-latest.min']\n",
       "            }\n",
       "        });\n",
       "        require(['plotly'], function(Plotly) {\n",
       "            window._Plotly = Plotly;\n",
       "        });\n",
       "        }\n",
       "        </script>\n",
       "        "
      ]
     },
     "metadata": {},
     "output_type": "display_data"
    }
   ],
   "source": [
    "##Importing Libraries\n",
    "import pandas as pd\n",
    "import numpy as np\n",
    "import seaborn as sns\n",
    "import sklearn\n",
    "import matplotlib.pyplot as plt \n",
    "import plotly.offline as py\n",
    "from sklearn import tree,linear_model,neighbors, svm\n",
    "from sklearn.model_selection import cross_val_score, train_test_split,GridSearchCV, KFold\n",
    "from sklearn.metrics import accuracy_score,confusion_matrix,classification_report,recall_score,f1_score,precision_score\n",
    "from sklearn.exceptions import ConvergenceWarning\n",
    "from sklearn.svm import SVC\n",
    "from sklearn.naive_bayes import GaussianNB\n",
    "from sklearn.ensemble import RandomForestClassifier,AdaBoostClassifier\n",
    "from imblearn.under_sampling import RandomUnderSampler\n",
    "from collections import Counter\n",
    "import time\n",
    "import matplotlib.pyplot as plt                \n",
    "import plotly.offline as py\n",
    "from plotly import tools\n",
    "py.init_notebook_mode(connected=True)\n",
    "import plotly.graph_objs as go"
   ]
  },
  {
   "cell_type": "code",
   "execution_count": 2,
   "metadata": {},
   "outputs": [],
   "source": [
    "## For ignoring warnings to view clean output\n",
    "import warnings\n",
    "warnings.filterwarnings(\"ignore\", category=FutureWarning)\n",
    "warnings.filterwarnings(\"ignore\", category=ConvergenceWarning)\n",
    "warnings.filterwarnings(\"ignore\", category=DeprecationWarning)"
   ]
  },
  {
   "cell_type": "code",
   "execution_count": 3,
   "metadata": {},
   "outputs": [],
   "source": [
    "## Importing the dataset\n",
    "data = pd.read_csv('Data/cleaned.csv',header=0)"
   ]
  },
  {
   "cell_type": "code",
   "execution_count": 4,
   "metadata": {},
   "outputs": [],
   "source": [
    "### Separating Independent and Dependent features\n",
    "X = data.iloc[:,:-1]\n",
    "y = data.iloc[:, 14]"
   ]
  },
  {
   "cell_type": "markdown",
   "metadata": {},
   "source": [
    "### Data Transformation\n",
    "#### Handling Categorical Variables - Creating Dummy Variables"
   ]
  },
  {
   "cell_type": "code",
   "execution_count": 5,
   "metadata": {},
   "outputs": [
    {
     "name": "stdout",
     "output_type": "stream",
     "text": [
      "Age_band_of_driver : 5 categories\n",
      "Sex_of_driver : 3 categories\n",
      "Educational_level : 7 categories\n",
      "Vehicle_driver_relation : 4 categories\n",
      "Driving_experience : 8 categories\n",
      "Lanes_or_Medians : 7 categories\n",
      "Types_of_Junction : 8 categories\n",
      "Road_surface_type : 6 categories\n",
      "Light_conditions : 4 categories\n",
      "Weather_conditions : 9 categories\n",
      "Type_of_collision : 10 categories\n",
      "Vehicle_movement : 13 categories\n",
      "Pedestrian_movement : 9 categories\n",
      "Cause_of_accident : 20 categories\n",
      "Accident_severity : 3 categories\n"
     ]
    }
   ],
   "source": [
    "# Shows the columns with their number of categories each variable is having\n",
    "for col in data.columns:\n",
    "    print(col, ':', len(data[col].unique()), 'categories')"
   ]
  },
  {
   "cell_type": "code",
   "execution_count": 6,
   "metadata": {},
   "outputs": [
    {
     "data": {
      "text/plain": [
       "(12316, 100)"
      ]
     },
     "execution_count": 6,
     "metadata": {},
     "output_type": "execute_result"
    }
   ],
   "source": [
    "pd.get_dummies(data,drop_first=True).shape"
   ]
  },
  {
   "cell_type": "code",
   "execution_count": 7,
   "metadata": {},
   "outputs": [],
   "source": [
    "X = pd.get_dummies(X, drop_first=True)"
   ]
  },
  {
   "cell_type": "code",
   "execution_count": 8,
   "metadata": {},
   "outputs": [
    {
     "data": {
      "text/plain": [
       "(12316, 99)"
      ]
     },
     "execution_count": 8,
     "metadata": {},
     "output_type": "execute_result"
    }
   ],
   "source": [
    "X.shape"
   ]
  },
  {
   "cell_type": "code",
   "execution_count": 9,
   "metadata": {},
   "outputs": [],
   "source": [
    "from sklearn.preprocessing import StandardScaler\n",
    "scaler = StandardScaler()\n",
    "X = scaler.fit_transform(X)"
   ]
  },
  {
   "cell_type": "code",
   "execution_count": 10,
   "metadata": {},
   "outputs": [
    {
     "name": "stdout",
     "output_type": "stream",
     "text": [
      "Mean of the dataset:  0.0\n",
      "Standard deviation of the dataset:  1.0\n"
     ]
    }
   ],
   "source": [
    "print(\"Mean of the dataset: \", np.mean(X).round(8))\n",
    "print(\"Standard deviation of the dataset: \", np.std(X).round(8))"
   ]
  },
  {
   "cell_type": "markdown",
   "metadata": {},
   "source": [
    "### Handling Class imbalance"
   ]
  },
  {
   "cell_type": "code",
   "execution_count": 11,
   "metadata": {},
   "outputs": [
    {
     "data": {
      "text/plain": [
       "2    10415\n",
       "1     1743\n",
       "0      158\n",
       "Name: Accident_severity, dtype: int64"
      ]
     },
     "execution_count": 11,
     "metadata": {},
     "output_type": "execute_result"
    }
   ],
   "source": [
    "### Checking for data imbalance \n",
    "y.value_counts()"
   ]
  },
  {
   "cell_type": "code",
   "execution_count": 12,
   "metadata": {},
   "outputs": [
    {
     "name": "stdout",
     "output_type": "stream",
     "text": [
      "Slight Injury: 84.56%\n",
      "Serious Injury: 14.15%\n",
      "Fatal Injury: 1.28%\n"
     ]
    }
   ],
   "source": [
    "print('Slight Injury: ' + str(round(data['Accident_severity'].value_counts()[2] / len(data) * 100, 2)) + '%\\nSerious Injury: ' + \n",
    "      str(round(data['Accident_severity'].value_counts()[1] / len(data) * 100, 2))  + '%\\nFatal Injury: ' + \n",
    "      str(round(data['Accident_severity'].value_counts()[0] / len(data) * 100, 2)) + '%')"
   ]
  },
  {
   "cell_type": "markdown",
   "metadata": {},
   "source": [
    "####  Random Undersampling Techniques for handling imbalanced dataset"
   ]
  },
  {
   "cell_type": "code",
   "execution_count": 17,
   "metadata": {},
   "outputs": [],
   "source": [
    "# Undersampling \n",
    "rus = RandomUnderSampler(random_state=42)\n",
    "X_under, y_under = rus.fit_sample(X, y)\n",
    "## train test split\n",
    "X_train_under,X_test_under,y_train_under,y_test_under = train_test_split(X_under,y_under,test_size=0.2,random_state=42)\n",
    "#setting 20% aside as validation data for cross validation\n",
    "x_train_t, x_train_v, y_train_t, y_train_v = train_test_split(X_train_under, y_train_under, test_size = 0.2, random_state = 42)"
   ]
  },
  {
   "cell_type": "code",
   "execution_count": 18,
   "metadata": {},
   "outputs": [
    {
     "data": {
      "text/plain": [
       "2    158\n",
       "1    158\n",
       "0    158\n",
       "Name: Accident_severity, dtype: int64"
      ]
     },
     "execution_count": 18,
     "metadata": {},
     "output_type": "execute_result"
    }
   ],
   "source": [
    "# Print class frequencies \n",
    "pd.Series(y_under).value_counts()"
   ]
  },
  {
   "cell_type": "code",
   "execution_count": 19,
   "metadata": {},
   "outputs": [
    {
     "data": {
      "text/plain": [
       "0    35\n",
       "2    33\n",
       "1    27\n",
       "Name: Accident_severity, dtype: int64"
      ]
     },
     "execution_count": 19,
     "metadata": {},
     "output_type": "execute_result"
    }
   ],
   "source": [
    "y_test_under.value_counts()"
   ]
  },
  {
   "cell_type": "markdown",
   "metadata": {},
   "source": [
    "## Model training : Undersampling Technique"
   ]
  },
  {
   "cell_type": "markdown",
   "metadata": {},
   "source": [
    "#### Model Evaluation : F1 Macro\n",
    "**In this problem domain all classes should be treated equally. So Macro F1-score will give the same importance to each label/class. It will be low for models that only perform well on the common classes while performing poorly on the rare classes.***"
   ]
  },
  {
   "cell_type": "markdown",
   "metadata": {},
   "source": [
    "### 1. Logistic Regression"
   ]
  },
  {
   "cell_type": "code",
   "execution_count": 20,
   "metadata": {},
   "outputs": [
    {
     "name": "stdout",
     "output_type": "stream",
     "text": [
      "Execution time: 0.5046496391296387 sec\n"
     ]
    }
   ],
   "source": [
    "start_time = time.time()\n",
    "LR_model = linear_model.LogisticRegression()\n",
    "# feeding the training data into the model\n",
    "LR_model.fit(X_train_under, y_train_under)\n",
    "print(\"Execution time: \" + str((time.time() - start_time)) + ' sec')"
   ]
  },
  {
   "cell_type": "code",
   "execution_count": 21,
   "metadata": {},
   "outputs": [
    {
     "name": "stdout",
     "output_type": "stream",
     "text": [
      "Confusion Matrix: - \n",
      " [[16  9 10]\n",
      " [10 11  6]\n",
      " [11  4 18]]\n",
      "\n",
      "Classification Report: - \n",
      "               precision    recall  f1-score   support\n",
      "\n",
      "       Fatal       0.43      0.46      0.44        35\n",
      "     Serious       0.46      0.41      0.43        27\n",
      "      Slight       0.53      0.55      0.54        33\n",
      "\n",
      "    accuracy                           0.47        95\n",
      "   macro avg       0.47      0.47      0.47        95\n",
      "weighted avg       0.47      0.47      0.47        95\n",
      "\n",
      "Recall: 0.4700016033349366\n",
      "Precision: 0.4700016033349366\n",
      "F1 score: 0.4700016033349366\n"
     ]
    }
   ],
   "source": [
    "# predicting the values for x-test\n",
    "y_pred = LR_model.predict(X_test_under)\n",
    "# finding the training and testing accuracy\n",
    "name = ['Fatal','Serious','Slight']\n",
    "LR_r=recall_score(y_test_under,y_pred, average='macro')\n",
    "LR_p=precision_score(y_test_under,y_pred, average='macro')\n",
    "LR_f=f1_score(y_test_under,y_pred, average='macro')\n",
    "print(\"Confusion Matrix: - \\n\",confusion_matrix(y_test_under, y_pred))\n",
    "print()\n",
    "print(\"Classification Report: - \\n\",classification_report(y_test_under, y_pred,target_names=name))\n",
    "print(\"Recall:\", LR_r)\n",
    "print(\"Precision:\", LR_r)\n",
    "print(\"F1 score:\", LR_r)"
   ]
  },
  {
   "cell_type": "markdown",
   "metadata": {},
   "source": [
    "### 2. Naive Bayes"
   ]
  },
  {
   "cell_type": "code",
   "execution_count": 22,
   "metadata": {},
   "outputs": [
    {
     "name": "stdout",
     "output_type": "stream",
     "text": [
      "Execution time: 0.002994060516357422 sec\n"
     ]
    }
   ],
   "source": [
    "start_time = time.time()\n",
    "NB_model = GaussianNB()\n",
    "# feeding the training data into the model\n",
    "NB_model.fit(X_train_under, y_train_under)\n",
    "print(\"Execution time: \" + str((time.time() - start_time)) + ' sec')"
   ]
  },
  {
   "cell_type": "code",
   "execution_count": 23,
   "metadata": {},
   "outputs": [
    {
     "name": "stdout",
     "output_type": "stream",
     "text": [
      "Confusion Matrix: - \n",
      " [[25  6  4]\n",
      " [18  1  8]\n",
      " [25  0  8]]\n",
      "\n",
      "Classification Report: - \n",
      "               precision    recall  f1-score   support\n",
      "\n",
      "       Fatal       0.37      0.71      0.49        35\n",
      "     Serious       0.14      0.04      0.06        27\n",
      "      Slight       0.40      0.24      0.30        33\n",
      "\n",
      "    accuracy                           0.36        95\n",
      "   macro avg       0.30      0.33      0.28        95\n",
      "weighted avg       0.31      0.36      0.30        95\n",
      "\n",
      "Recall: 0.3312489979156646\n",
      "Precision: 0.30350140056022407\n",
      "F1 score: 0.2820490716894928\n"
     ]
    }
   ],
   "source": [
    "# predicting the values for x-test\n",
    "y_pred = NB_model.predict(X_test_under)\n",
    "# finding the training and testing accuracy\n",
    "name = ['Fatal','Serious','Slight']\n",
    "NB_r=recall_score(y_test_under,y_pred, average='macro')\n",
    "NB_p=precision_score(y_test_under,y_pred, average='macro')\n",
    "NB_f=f1_score(y_test_under,y_pred, average='macro')\n",
    "print(\"Confusion Matrix: - \\n\",confusion_matrix(y_test_under, y_pred))\n",
    "print()\n",
    "print(\"Classification Report: - \\n\",classification_report(y_test_under, y_pred,target_names=name))\n",
    "print(\"Recall:\", NB_r)\n",
    "print(\"Precision:\", NB_p)\n",
    "print(\"F1 score:\", NB_f)"
   ]
  },
  {
   "cell_type": "markdown",
   "metadata": {},
   "source": [
    "### 3. Decision Tree"
   ]
  },
  {
   "cell_type": "code",
   "execution_count": 24,
   "metadata": {},
   "outputs": [
    {
     "name": "stdout",
     "output_type": "stream",
     "text": [
      "Execution time: 0.006983280181884766 sec\n"
     ]
    }
   ],
   "source": [
    "start_time = time.time()\n",
    "DT_model = tree.DecisionTreeClassifier()\n",
    "# feeding the training data into the model\n",
    "DT_model.fit(X_train_under, y_train_under)\n",
    "print(\"Execution time: \" + str((time.time() - start_time)) + ' sec')"
   ]
  },
  {
   "cell_type": "code",
   "execution_count": 25,
   "metadata": {},
   "outputs": [
    {
     "name": "stdout",
     "output_type": "stream",
     "text": [
      "Confusion Matrix: - \n",
      " [[20  6  9]\n",
      " [11 12  4]\n",
      " [10 12 11]]\n",
      "\n",
      "Classification Report: - \n",
      "               precision    recall  f1-score   support\n",
      "\n",
      "       Fatal       0.49      0.57      0.53        35\n",
      "     Serious       0.40      0.44      0.42        27\n",
      "      Slight       0.46      0.33      0.39        33\n",
      "\n",
      "    accuracy                           0.45        95\n",
      "   macro avg       0.45      0.45      0.44        95\n",
      "weighted avg       0.45      0.45      0.45        95\n",
      "\n",
      "Recall: 0.4497354497354497\n",
      "Precision: 0.4487127371273713\n",
      "F1 score: 0.4444444444444445\n"
     ]
    }
   ],
   "source": [
    "# predicting the values for x-test\n",
    "y_pred = DT_model.predict(X_test_under)\n",
    "# finding the training and testing accuracy\n",
    "name = ['Fatal','Serious','Slight']\n",
    "DT_r=recall_score(y_test_under,y_pred, average='macro')\n",
    "DT_p=precision_score(y_test_under,y_pred, average='macro')\n",
    "DT_f=f1_score(y_test_under,y_pred, average='macro')\n",
    "print(\"Confusion Matrix: - \\n\",confusion_matrix(y_test_under, y_pred))\n",
    "print()\n",
    "print(\"Classification Report: - \\n\",classification_report(y_test_under, y_pred,target_names=name))\n",
    "print(\"Recall:\", DT_r)\n",
    "print(\"Precision:\", DT_p)\n",
    "print(\"F1 score:\", DT_f)"
   ]
  },
  {
   "cell_type": "markdown",
   "metadata": {},
   "source": [
    "### 4. K Nearest Neighbors"
   ]
  },
  {
   "cell_type": "code",
   "execution_count": 26,
   "metadata": {},
   "outputs": [
    {
     "name": "stdout",
     "output_type": "stream",
     "text": [
      "Execution time: 0.007979631423950195 sec\n"
     ]
    }
   ],
   "source": [
    "start_time = time.time()\n",
    "knn_model = neighbors.KNeighborsClassifier()\n",
    "# feeding the training data into the model\n",
    "knn_model.fit(X_train_under, y_train_under)\n",
    "print(\"Execution time: \" + str((time.time() - start_time)) + ' sec')"
   ]
  },
  {
   "cell_type": "code",
   "execution_count": 27,
   "metadata": {},
   "outputs": [
    {
     "name": "stdout",
     "output_type": "stream",
     "text": [
      "Confusion Matrix: - \n",
      " [[20 10  5]\n",
      " [11 10  6]\n",
      " [12  9 12]]\n",
      "\n",
      "Classification Report: - \n",
      "               precision    recall  f1-score   support\n",
      "\n",
      "       Fatal       0.47      0.57      0.51        35\n",
      "     Serious       0.34      0.37      0.36        27\n",
      "      Slight       0.52      0.36      0.43        33\n",
      "\n",
      "    accuracy                           0.44        95\n",
      "   macro avg       0.44      0.44      0.43        95\n",
      "weighted avg       0.45      0.44      0.44        95\n",
      "\n",
      "Recall: 0.43514510181176846\n",
      "Precision: 0.4438943319038155\n",
      "F1 score: 0.43284493284493286\n"
     ]
    }
   ],
   "source": [
    "# predicting the values for x-test\n",
    "y_pred = knn_model.predict(X_test_under)\n",
    "# finding the training and testing accuracy\n",
    "name = ['Fatal','Serious','Slight']\n",
    "knn_r=recall_score(y_test_under,y_pred, average='macro')\n",
    "knn_p=precision_score(y_test_under,y_pred, average='macro')\n",
    "knn_f=f1_score(y_test_under,y_pred, average='macro')\n",
    "print(\"Confusion Matrix: - \\n\",confusion_matrix(y_test_under, y_pred))\n",
    "print()\n",
    "print(\"Classification Report: - \\n\",classification_report(y_test_under, y_pred,target_names=name))\n",
    "print(\"Recall:\", knn_r)\n",
    "print(\"Precision:\", knn_p)\n",
    "print(\"F1 score:\", knn_f)"
   ]
  },
  {
   "cell_type": "markdown",
   "metadata": {},
   "source": [
    "### 5. Support Vector Machine "
   ]
  },
  {
   "cell_type": "code",
   "execution_count": 28,
   "metadata": {},
   "outputs": [
    {
     "name": "stdout",
     "output_type": "stream",
     "text": [
      "Execution time: 0.09773993492126465 sec\n"
     ]
    }
   ],
   "source": [
    "start_time = time.time()\n",
    "svm_model = svm.SVC()\n",
    "# feeding the training data into the model\n",
    "svm_model.fit(X_train_under, y_train_under)\n",
    "print(\"Execution time: \" + str((time.time() - start_time)) + ' sec')"
   ]
  },
  {
   "cell_type": "code",
   "execution_count": 29,
   "metadata": {},
   "outputs": [
    {
     "name": "stdout",
     "output_type": "stream",
     "text": [
      "Confusion Matrix: - \n",
      " [[17 11  7]\n",
      " [10 10  7]\n",
      " [13  8 12]]\n",
      "\n",
      "Classification Report: - \n",
      "               precision    recall  f1-score   support\n",
      "\n",
      "       Fatal       0.42      0.49      0.45        35\n",
      "     Serious       0.34      0.37      0.36        27\n",
      "      Slight       0.46      0.36      0.41        33\n",
      "\n",
      "    accuracy                           0.41        95\n",
      "   macro avg       0.41      0.41      0.41        95\n",
      "weighted avg       0.41      0.41      0.41        95\n",
      "\n",
      "Recall: 0.40657367324033994\n",
      "Precision: 0.4104553492484528\n",
      "F1 score: 0.40575195049771323\n"
     ]
    }
   ],
   "source": [
    "# predicting the values for x-test\n",
    "y_pred = svm_model.predict(X_test_under)\n",
    "# finding the training and testing accuracy\n",
    "name = ['Fatal','Serious','Slight']\n",
    "svm_r=recall_score(y_test_under,y_pred, average='macro')\n",
    "svm_p=precision_score(y_test_under,y_pred, average='macro')\n",
    "svm_f=f1_score(y_test_under,y_pred, average='macro')\n",
    "print(\"Confusion Matrix: - \\n\",confusion_matrix(y_test_under, y_pred))\n",
    "print()\n",
    "print(\"Classification Report: - \\n\",classification_report(y_test_under, y_pred,target_names=name))\n",
    "print(\"Recall:\", svm_r)\n",
    "print(\"Precision:\", svm_p)\n",
    "print(\"F1 score:\", svm_f)"
   ]
  },
  {
   "cell_type": "markdown",
   "metadata": {},
   "source": [
    "### 6. AdaBoost"
   ]
  },
  {
   "cell_type": "code",
   "execution_count": 30,
   "metadata": {},
   "outputs": [
    {
     "name": "stdout",
     "output_type": "stream",
     "text": [
      "Execution time: 0.17851829528808594 sec\n"
     ]
    }
   ],
   "source": [
    "start_time = time.time()\n",
    "adb_model = AdaBoostClassifier()\n",
    "# feeding the training data into the model\n",
    "adb_model.fit(X_train_under, y_train_under)\n",
    "print(\"Execution time: \" + str((time.time() - start_time)) + ' sec')"
   ]
  },
  {
   "cell_type": "code",
   "execution_count": 31,
   "metadata": {},
   "outputs": [
    {
     "name": "stdout",
     "output_type": "stream",
     "text": [
      "Confusion Matrix: - \n",
      " [[21  8  6]\n",
      " [12  9  6]\n",
      " [14  4 15]]\n",
      "\n",
      "Classification Report: - \n",
      "               precision    recall  f1-score   support\n",
      "\n",
      "       Fatal       0.45      0.60      0.51        35\n",
      "     Serious       0.43      0.33      0.38        27\n",
      "      Slight       0.56      0.45      0.50        33\n",
      "\n",
      "    accuracy                           0.47        95\n",
      "   macro avg       0.48      0.46      0.46        95\n",
      "weighted avg       0.48      0.47      0.47        95\n",
      "\n",
      "Recall: 0.46262626262626266\n",
      "Precision: 0.476978498255094\n",
      "F1 score: 0.46239837398373984\n"
     ]
    }
   ],
   "source": [
    "# predicting the values for x-test\n",
    "y_pred = adb_model.predict(X_test_under)\n",
    "# finding the training and testing accuracy\n",
    "name = ['Fatal','Serious','Slight']\n",
    "adb_r=recall_score(y_test_under,y_pred, average='macro')\n",
    "adb_p=precision_score(y_test_under,y_pred, average='macro')\n",
    "adb_f=f1_score(y_test_under,y_pred, average='macro')\n",
    "print(\"Confusion Matrix: - \\n\",confusion_matrix(y_test_under, y_pred))\n",
    "print()\n",
    "print(\"Classification Report: - \\n\",classification_report(y_test_under, y_pred,target_names=name))\n",
    "print(\"Recall:\", adb_r)\n",
    "print(\"Precision:\", adb_p)\n",
    "print(\"F1 score:\", adb_f)"
   ]
  },
  {
   "cell_type": "markdown",
   "metadata": {},
   "source": [
    "### 7. Random Forest"
   ]
  },
  {
   "cell_type": "code",
   "execution_count": 32,
   "metadata": {},
   "outputs": [
    {
     "name": "stdout",
     "output_type": "stream",
     "text": [
      "Execution time: 0.34012389183044434 sec\n"
     ]
    }
   ],
   "source": [
    "start_time = time.time()\n",
    "RF_model = RandomForestClassifier()\n",
    "# feeding the training data into the model\n",
    "RF_model.fit(X_train_under, y_train_under)\n",
    "print(\"Execution time: \" + str((time.time() - start_time)) + ' sec')"
   ]
  },
  {
   "cell_type": "code",
   "execution_count": 33,
   "metadata": {},
   "outputs": [
    {
     "name": "stdout",
     "output_type": "stream",
     "text": [
      "Confusion Matrix: - \n",
      " [[18  7 10]\n",
      " [11 11  5]\n",
      " [12  9 12]]\n",
      "\n",
      "Classification Report: - \n",
      "               precision    recall  f1-score   support\n",
      "\n",
      "       Fatal       0.44      0.51      0.47        35\n",
      "     Serious       0.41      0.41      0.41        27\n",
      "      Slight       0.44      0.36      0.40        33\n",
      "\n",
      "    accuracy                           0.43        95\n",
      "   macro avg       0.43      0.43      0.43        95\n",
      "weighted avg       0.43      0.43      0.43        95\n",
      "\n",
      "Recall: 0.42844316177649516\n",
      "Precision: 0.43029208069858477\n",
      "F1 score: 0.427030539311241\n"
     ]
    }
   ],
   "source": [
    "# predicting the values for x-test\n",
    "y_pred = RF_model.predict(X_test_under)\n",
    "# finding the training and testing accuracy\n",
    "name = ['Fatal','Serious','Slight']\n",
    "RF_r=recall_score(y_test_under,y_pred, average='macro')\n",
    "RF_p=precision_score(y_test_under,y_pred, average='macro')\n",
    "RF_f=f1_score(y_test_under,y_pred, average='macro')\n",
    "print(\"Confusion Matrix: - \\n\",confusion_matrix(y_test_under, y_pred))\n",
    "print()\n",
    "print(\"Classification Report: - \\n\",classification_report(y_test_under, y_pred,target_names=name))\n",
    "print(\"Recall:\", RF_r)\n",
    "print(\"Precision:\", RF_p)\n",
    "print(\"F1 score:\", RF_f)"
   ]
  },
  {
   "cell_type": "code",
   "execution_count": 34,
   "metadata": {},
   "outputs": [
    {
     "data": {
      "application/vnd.plotly.v1+json": {
       "config": {
        "plotlyServerURL": "https://plot.ly"
       },
       "data": [
        {
         "name": "F1_score",
         "type": "bar",
         "x": [
          "Logistic Regression",
          "Naive Bayes Classifier",
          "Decision Tree Classifier",
          "K-Nearest Neighbor",
          "Support Vector Machine",
          "AdaBoost",
          "Random Forest Classifier"
         ],
         "y": [
          0.47104347543329106,
          0.2820490716894928,
          0.4444444444444445,
          0.43284493284493286,
          0.40575195049771323,
          0.46262626262626266,
          0.427030539311241
         ]
        }
       ],
       "layout": {
        "template": {
         "data": {
          "bar": [
           {
            "error_x": {
             "color": "#2a3f5f"
            },
            "error_y": {
             "color": "#2a3f5f"
            },
            "marker": {
             "line": {
              "color": "#E5ECF6",
              "width": 0.5
             }
            },
            "type": "bar"
           }
          ],
          "barpolar": [
           {
            "marker": {
             "line": {
              "color": "#E5ECF6",
              "width": 0.5
             }
            },
            "type": "barpolar"
           }
          ],
          "carpet": [
           {
            "aaxis": {
             "endlinecolor": "#2a3f5f",
             "gridcolor": "white",
             "linecolor": "white",
             "minorgridcolor": "white",
             "startlinecolor": "#2a3f5f"
            },
            "baxis": {
             "endlinecolor": "#2a3f5f",
             "gridcolor": "white",
             "linecolor": "white",
             "minorgridcolor": "white",
             "startlinecolor": "#2a3f5f"
            },
            "type": "carpet"
           }
          ],
          "choropleth": [
           {
            "colorbar": {
             "outlinewidth": 0,
             "ticks": ""
            },
            "type": "choropleth"
           }
          ],
          "contour": [
           {
            "colorbar": {
             "outlinewidth": 0,
             "ticks": ""
            },
            "colorscale": [
             [
              0,
              "#0d0887"
             ],
             [
              0.1111111111111111,
              "#46039f"
             ],
             [
              0.2222222222222222,
              "#7201a8"
             ],
             [
              0.3333333333333333,
              "#9c179e"
             ],
             [
              0.4444444444444444,
              "#bd3786"
             ],
             [
              0.5555555555555556,
              "#d8576b"
             ],
             [
              0.6666666666666666,
              "#ed7953"
             ],
             [
              0.7777777777777778,
              "#fb9f3a"
             ],
             [
              0.8888888888888888,
              "#fdca26"
             ],
             [
              1,
              "#f0f921"
             ]
            ],
            "type": "contour"
           }
          ],
          "contourcarpet": [
           {
            "colorbar": {
             "outlinewidth": 0,
             "ticks": ""
            },
            "type": "contourcarpet"
           }
          ],
          "heatmap": [
           {
            "colorbar": {
             "outlinewidth": 0,
             "ticks": ""
            },
            "colorscale": [
             [
              0,
              "#0d0887"
             ],
             [
              0.1111111111111111,
              "#46039f"
             ],
             [
              0.2222222222222222,
              "#7201a8"
             ],
             [
              0.3333333333333333,
              "#9c179e"
             ],
             [
              0.4444444444444444,
              "#bd3786"
             ],
             [
              0.5555555555555556,
              "#d8576b"
             ],
             [
              0.6666666666666666,
              "#ed7953"
             ],
             [
              0.7777777777777778,
              "#fb9f3a"
             ],
             [
              0.8888888888888888,
              "#fdca26"
             ],
             [
              1,
              "#f0f921"
             ]
            ],
            "type": "heatmap"
           }
          ],
          "heatmapgl": [
           {
            "colorbar": {
             "outlinewidth": 0,
             "ticks": ""
            },
            "colorscale": [
             [
              0,
              "#0d0887"
             ],
             [
              0.1111111111111111,
              "#46039f"
             ],
             [
              0.2222222222222222,
              "#7201a8"
             ],
             [
              0.3333333333333333,
              "#9c179e"
             ],
             [
              0.4444444444444444,
              "#bd3786"
             ],
             [
              0.5555555555555556,
              "#d8576b"
             ],
             [
              0.6666666666666666,
              "#ed7953"
             ],
             [
              0.7777777777777778,
              "#fb9f3a"
             ],
             [
              0.8888888888888888,
              "#fdca26"
             ],
             [
              1,
              "#f0f921"
             ]
            ],
            "type": "heatmapgl"
           }
          ],
          "histogram": [
           {
            "marker": {
             "colorbar": {
              "outlinewidth": 0,
              "ticks": ""
             }
            },
            "type": "histogram"
           }
          ],
          "histogram2d": [
           {
            "colorbar": {
             "outlinewidth": 0,
             "ticks": ""
            },
            "colorscale": [
             [
              0,
              "#0d0887"
             ],
             [
              0.1111111111111111,
              "#46039f"
             ],
             [
              0.2222222222222222,
              "#7201a8"
             ],
             [
              0.3333333333333333,
              "#9c179e"
             ],
             [
              0.4444444444444444,
              "#bd3786"
             ],
             [
              0.5555555555555556,
              "#d8576b"
             ],
             [
              0.6666666666666666,
              "#ed7953"
             ],
             [
              0.7777777777777778,
              "#fb9f3a"
             ],
             [
              0.8888888888888888,
              "#fdca26"
             ],
             [
              1,
              "#f0f921"
             ]
            ],
            "type": "histogram2d"
           }
          ],
          "histogram2dcontour": [
           {
            "colorbar": {
             "outlinewidth": 0,
             "ticks": ""
            },
            "colorscale": [
             [
              0,
              "#0d0887"
             ],
             [
              0.1111111111111111,
              "#46039f"
             ],
             [
              0.2222222222222222,
              "#7201a8"
             ],
             [
              0.3333333333333333,
              "#9c179e"
             ],
             [
              0.4444444444444444,
              "#bd3786"
             ],
             [
              0.5555555555555556,
              "#d8576b"
             ],
             [
              0.6666666666666666,
              "#ed7953"
             ],
             [
              0.7777777777777778,
              "#fb9f3a"
             ],
             [
              0.8888888888888888,
              "#fdca26"
             ],
             [
              1,
              "#f0f921"
             ]
            ],
            "type": "histogram2dcontour"
           }
          ],
          "mesh3d": [
           {
            "colorbar": {
             "outlinewidth": 0,
             "ticks": ""
            },
            "type": "mesh3d"
           }
          ],
          "parcoords": [
           {
            "line": {
             "colorbar": {
              "outlinewidth": 0,
              "ticks": ""
             }
            },
            "type": "parcoords"
           }
          ],
          "pie": [
           {
            "automargin": true,
            "type": "pie"
           }
          ],
          "scatter": [
           {
            "marker": {
             "colorbar": {
              "outlinewidth": 0,
              "ticks": ""
             }
            },
            "type": "scatter"
           }
          ],
          "scatter3d": [
           {
            "line": {
             "colorbar": {
              "outlinewidth": 0,
              "ticks": ""
             }
            },
            "marker": {
             "colorbar": {
              "outlinewidth": 0,
              "ticks": ""
             }
            },
            "type": "scatter3d"
           }
          ],
          "scattercarpet": [
           {
            "marker": {
             "colorbar": {
              "outlinewidth": 0,
              "ticks": ""
             }
            },
            "type": "scattercarpet"
           }
          ],
          "scattergeo": [
           {
            "marker": {
             "colorbar": {
              "outlinewidth": 0,
              "ticks": ""
             }
            },
            "type": "scattergeo"
           }
          ],
          "scattergl": [
           {
            "marker": {
             "colorbar": {
              "outlinewidth": 0,
              "ticks": ""
             }
            },
            "type": "scattergl"
           }
          ],
          "scattermapbox": [
           {
            "marker": {
             "colorbar": {
              "outlinewidth": 0,
              "ticks": ""
             }
            },
            "type": "scattermapbox"
           }
          ],
          "scatterpolar": [
           {
            "marker": {
             "colorbar": {
              "outlinewidth": 0,
              "ticks": ""
             }
            },
            "type": "scatterpolar"
           }
          ],
          "scatterpolargl": [
           {
            "marker": {
             "colorbar": {
              "outlinewidth": 0,
              "ticks": ""
             }
            },
            "type": "scatterpolargl"
           }
          ],
          "scatterternary": [
           {
            "marker": {
             "colorbar": {
              "outlinewidth": 0,
              "ticks": ""
             }
            },
            "type": "scatterternary"
           }
          ],
          "surface": [
           {
            "colorbar": {
             "outlinewidth": 0,
             "ticks": ""
            },
            "colorscale": [
             [
              0,
              "#0d0887"
             ],
             [
              0.1111111111111111,
              "#46039f"
             ],
             [
              0.2222222222222222,
              "#7201a8"
             ],
             [
              0.3333333333333333,
              "#9c179e"
             ],
             [
              0.4444444444444444,
              "#bd3786"
             ],
             [
              0.5555555555555556,
              "#d8576b"
             ],
             [
              0.6666666666666666,
              "#ed7953"
             ],
             [
              0.7777777777777778,
              "#fb9f3a"
             ],
             [
              0.8888888888888888,
              "#fdca26"
             ],
             [
              1,
              "#f0f921"
             ]
            ],
            "type": "surface"
           }
          ],
          "table": [
           {
            "cells": {
             "fill": {
              "color": "#EBF0F8"
             },
             "line": {
              "color": "white"
             }
            },
            "header": {
             "fill": {
              "color": "#C8D4E3"
             },
             "line": {
              "color": "white"
             }
            },
            "type": "table"
           }
          ]
         },
         "layout": {
          "annotationdefaults": {
           "arrowcolor": "#2a3f5f",
           "arrowhead": 0,
           "arrowwidth": 1
          },
          "coloraxis": {
           "colorbar": {
            "outlinewidth": 0,
            "ticks": ""
           }
          },
          "colorscale": {
           "diverging": [
            [
             0,
             "#8e0152"
            ],
            [
             0.1,
             "#c51b7d"
            ],
            [
             0.2,
             "#de77ae"
            ],
            [
             0.3,
             "#f1b6da"
            ],
            [
             0.4,
             "#fde0ef"
            ],
            [
             0.5,
             "#f7f7f7"
            ],
            [
             0.6,
             "#e6f5d0"
            ],
            [
             0.7,
             "#b8e186"
            ],
            [
             0.8,
             "#7fbc41"
            ],
            [
             0.9,
             "#4d9221"
            ],
            [
             1,
             "#276419"
            ]
           ],
           "sequential": [
            [
             0,
             "#0d0887"
            ],
            [
             0.1111111111111111,
             "#46039f"
            ],
            [
             0.2222222222222222,
             "#7201a8"
            ],
            [
             0.3333333333333333,
             "#9c179e"
            ],
            [
             0.4444444444444444,
             "#bd3786"
            ],
            [
             0.5555555555555556,
             "#d8576b"
            ],
            [
             0.6666666666666666,
             "#ed7953"
            ],
            [
             0.7777777777777778,
             "#fb9f3a"
            ],
            [
             0.8888888888888888,
             "#fdca26"
            ],
            [
             1,
             "#f0f921"
            ]
           ],
           "sequentialminus": [
            [
             0,
             "#0d0887"
            ],
            [
             0.1111111111111111,
             "#46039f"
            ],
            [
             0.2222222222222222,
             "#7201a8"
            ],
            [
             0.3333333333333333,
             "#9c179e"
            ],
            [
             0.4444444444444444,
             "#bd3786"
            ],
            [
             0.5555555555555556,
             "#d8576b"
            ],
            [
             0.6666666666666666,
             "#ed7953"
            ],
            [
             0.7777777777777778,
             "#fb9f3a"
            ],
            [
             0.8888888888888888,
             "#fdca26"
            ],
            [
             1,
             "#f0f921"
            ]
           ]
          },
          "colorway": [
           "#636efa",
           "#EF553B",
           "#00cc96",
           "#ab63fa",
           "#FFA15A",
           "#19d3f3",
           "#FF6692",
           "#B6E880",
           "#FF97FF",
           "#FECB52"
          ],
          "font": {
           "color": "#2a3f5f"
          },
          "geo": {
           "bgcolor": "white",
           "lakecolor": "white",
           "landcolor": "#E5ECF6",
           "showlakes": true,
           "showland": true,
           "subunitcolor": "white"
          },
          "hoverlabel": {
           "align": "left"
          },
          "hovermode": "closest",
          "mapbox": {
           "style": "light"
          },
          "paper_bgcolor": "white",
          "plot_bgcolor": "#E5ECF6",
          "polar": {
           "angularaxis": {
            "gridcolor": "white",
            "linecolor": "white",
            "ticks": ""
           },
           "bgcolor": "#E5ECF6",
           "radialaxis": {
            "gridcolor": "white",
            "linecolor": "white",
            "ticks": ""
           }
          },
          "scene": {
           "xaxis": {
            "backgroundcolor": "#E5ECF6",
            "gridcolor": "white",
            "gridwidth": 2,
            "linecolor": "white",
            "showbackground": true,
            "ticks": "",
            "zerolinecolor": "white"
           },
           "yaxis": {
            "backgroundcolor": "#E5ECF6",
            "gridcolor": "white",
            "gridwidth": 2,
            "linecolor": "white",
            "showbackground": true,
            "ticks": "",
            "zerolinecolor": "white"
           },
           "zaxis": {
            "backgroundcolor": "#E5ECF6",
            "gridcolor": "white",
            "gridwidth": 2,
            "linecolor": "white",
            "showbackground": true,
            "ticks": "",
            "zerolinecolor": "white"
           }
          },
          "shapedefaults": {
           "line": {
            "color": "#2a3f5f"
           }
          },
          "ternary": {
           "aaxis": {
            "gridcolor": "white",
            "linecolor": "white",
            "ticks": ""
           },
           "baxis": {
            "gridcolor": "white",
            "linecolor": "white",
            "ticks": ""
           },
           "bgcolor": "#E5ECF6",
           "caxis": {
            "gridcolor": "white",
            "linecolor": "white",
            "ticks": ""
           }
          },
          "title": {
           "x": 0.05
          },
          "xaxis": {
           "automargin": true,
           "gridcolor": "white",
           "linecolor": "white",
           "ticks": "",
           "title": {
            "standoff": 15
           },
           "zerolinecolor": "white",
           "zerolinewidth": 2
          },
          "yaxis": {
           "automargin": true,
           "gridcolor": "white",
           "linecolor": "white",
           "ticks": "",
           "title": {
            "standoff": 15
           },
           "zerolinecolor": "white",
           "zerolinewidth": 2
          }
         }
        }
       }
      },
      "text/html": [
       "<div>                            <div id=\"cd0baf69-24a7-44a5-954d-dd327f13ebff\" class=\"plotly-graph-div\" style=\"height:525px; width:100%;\"></div>            <script type=\"text/javascript\">                require([\"plotly\"], function(Plotly) {                    window.PLOTLYENV=window.PLOTLYENV || {};                                    if (document.getElementById(\"cd0baf69-24a7-44a5-954d-dd327f13ebff\")) {                    Plotly.newPlot(                        \"cd0baf69-24a7-44a5-954d-dd327f13ebff\",                        [{\"name\": \"F1_score\", \"type\": \"bar\", \"x\": [\"Logistic Regression\", \"Naive Bayes Classifier\", \"Decision Tree Classifier\", \"K-Nearest Neighbor\", \"Support Vector Machine\", \"AdaBoost\", \"Random Forest Classifier\"], \"y\": [0.47104347543329106, 0.2820490716894928, 0.4444444444444445, 0.43284493284493286, 0.40575195049771323, 0.46262626262626266, 0.427030539311241]}],                        {\"template\": {\"data\": {\"bar\": [{\"error_x\": {\"color\": \"#2a3f5f\"}, \"error_y\": {\"color\": \"#2a3f5f\"}, \"marker\": {\"line\": {\"color\": \"#E5ECF6\", \"width\": 0.5}}, \"type\": \"bar\"}], \"barpolar\": [{\"marker\": {\"line\": {\"color\": \"#E5ECF6\", \"width\": 0.5}}, \"type\": \"barpolar\"}], \"carpet\": [{\"aaxis\": {\"endlinecolor\": \"#2a3f5f\", \"gridcolor\": \"white\", \"linecolor\": \"white\", \"minorgridcolor\": \"white\", \"startlinecolor\": \"#2a3f5f\"}, \"baxis\": {\"endlinecolor\": \"#2a3f5f\", \"gridcolor\": \"white\", \"linecolor\": \"white\", \"minorgridcolor\": \"white\", \"startlinecolor\": \"#2a3f5f\"}, \"type\": \"carpet\"}], \"choropleth\": [{\"colorbar\": {\"outlinewidth\": 0, \"ticks\": \"\"}, \"type\": \"choropleth\"}], \"contour\": [{\"colorbar\": {\"outlinewidth\": 0, \"ticks\": \"\"}, \"colorscale\": [[0.0, \"#0d0887\"], [0.1111111111111111, \"#46039f\"], [0.2222222222222222, \"#7201a8\"], [0.3333333333333333, \"#9c179e\"], [0.4444444444444444, \"#bd3786\"], [0.5555555555555556, \"#d8576b\"], [0.6666666666666666, \"#ed7953\"], [0.7777777777777778, \"#fb9f3a\"], [0.8888888888888888, \"#fdca26\"], [1.0, \"#f0f921\"]], \"type\": \"contour\"}], \"contourcarpet\": [{\"colorbar\": {\"outlinewidth\": 0, \"ticks\": \"\"}, \"type\": \"contourcarpet\"}], \"heatmap\": [{\"colorbar\": {\"outlinewidth\": 0, \"ticks\": \"\"}, \"colorscale\": [[0.0, \"#0d0887\"], [0.1111111111111111, \"#46039f\"], [0.2222222222222222, \"#7201a8\"], [0.3333333333333333, \"#9c179e\"], [0.4444444444444444, \"#bd3786\"], [0.5555555555555556, \"#d8576b\"], [0.6666666666666666, \"#ed7953\"], [0.7777777777777778, \"#fb9f3a\"], [0.8888888888888888, \"#fdca26\"], [1.0, \"#f0f921\"]], \"type\": \"heatmap\"}], \"heatmapgl\": [{\"colorbar\": {\"outlinewidth\": 0, \"ticks\": \"\"}, \"colorscale\": [[0.0, \"#0d0887\"], [0.1111111111111111, \"#46039f\"], [0.2222222222222222, \"#7201a8\"], [0.3333333333333333, \"#9c179e\"], [0.4444444444444444, \"#bd3786\"], [0.5555555555555556, \"#d8576b\"], [0.6666666666666666, \"#ed7953\"], [0.7777777777777778, \"#fb9f3a\"], [0.8888888888888888, \"#fdca26\"], [1.0, \"#f0f921\"]], \"type\": \"heatmapgl\"}], \"histogram\": [{\"marker\": {\"colorbar\": {\"outlinewidth\": 0, \"ticks\": \"\"}}, \"type\": \"histogram\"}], \"histogram2d\": [{\"colorbar\": {\"outlinewidth\": 0, \"ticks\": \"\"}, \"colorscale\": [[0.0, \"#0d0887\"], [0.1111111111111111, \"#46039f\"], [0.2222222222222222, \"#7201a8\"], [0.3333333333333333, \"#9c179e\"], [0.4444444444444444, \"#bd3786\"], [0.5555555555555556, \"#d8576b\"], [0.6666666666666666, \"#ed7953\"], [0.7777777777777778, \"#fb9f3a\"], [0.8888888888888888, \"#fdca26\"], [1.0, \"#f0f921\"]], \"type\": \"histogram2d\"}], \"histogram2dcontour\": [{\"colorbar\": {\"outlinewidth\": 0, \"ticks\": \"\"}, \"colorscale\": [[0.0, \"#0d0887\"], [0.1111111111111111, \"#46039f\"], [0.2222222222222222, \"#7201a8\"], [0.3333333333333333, \"#9c179e\"], [0.4444444444444444, \"#bd3786\"], [0.5555555555555556, \"#d8576b\"], [0.6666666666666666, \"#ed7953\"], [0.7777777777777778, \"#fb9f3a\"], [0.8888888888888888, \"#fdca26\"], [1.0, \"#f0f921\"]], \"type\": \"histogram2dcontour\"}], \"mesh3d\": [{\"colorbar\": {\"outlinewidth\": 0, \"ticks\": \"\"}, \"type\": \"mesh3d\"}], \"parcoords\": [{\"line\": {\"colorbar\": {\"outlinewidth\": 0, \"ticks\": \"\"}}, \"type\": \"parcoords\"}], \"pie\": [{\"automargin\": true, \"type\": \"pie\"}], \"scatter\": [{\"marker\": {\"colorbar\": {\"outlinewidth\": 0, \"ticks\": \"\"}}, \"type\": \"scatter\"}], \"scatter3d\": [{\"line\": {\"colorbar\": {\"outlinewidth\": 0, \"ticks\": \"\"}}, \"marker\": {\"colorbar\": {\"outlinewidth\": 0, \"ticks\": \"\"}}, \"type\": \"scatter3d\"}], \"scattercarpet\": [{\"marker\": {\"colorbar\": {\"outlinewidth\": 0, \"ticks\": \"\"}}, \"type\": \"scattercarpet\"}], \"scattergeo\": [{\"marker\": {\"colorbar\": {\"outlinewidth\": 0, \"ticks\": \"\"}}, \"type\": \"scattergeo\"}], \"scattergl\": [{\"marker\": {\"colorbar\": {\"outlinewidth\": 0, \"ticks\": \"\"}}, \"type\": \"scattergl\"}], \"scattermapbox\": [{\"marker\": {\"colorbar\": {\"outlinewidth\": 0, \"ticks\": \"\"}}, \"type\": \"scattermapbox\"}], \"scatterpolar\": [{\"marker\": {\"colorbar\": {\"outlinewidth\": 0, \"ticks\": \"\"}}, \"type\": \"scatterpolar\"}], \"scatterpolargl\": [{\"marker\": {\"colorbar\": {\"outlinewidth\": 0, \"ticks\": \"\"}}, \"type\": \"scatterpolargl\"}], \"scatterternary\": [{\"marker\": {\"colorbar\": {\"outlinewidth\": 0, \"ticks\": \"\"}}, \"type\": \"scatterternary\"}], \"surface\": [{\"colorbar\": {\"outlinewidth\": 0, \"ticks\": \"\"}, \"colorscale\": [[0.0, \"#0d0887\"], [0.1111111111111111, \"#46039f\"], [0.2222222222222222, \"#7201a8\"], [0.3333333333333333, \"#9c179e\"], [0.4444444444444444, \"#bd3786\"], [0.5555555555555556, \"#d8576b\"], [0.6666666666666666, \"#ed7953\"], [0.7777777777777778, \"#fb9f3a\"], [0.8888888888888888, \"#fdca26\"], [1.0, \"#f0f921\"]], \"type\": \"surface\"}], \"table\": [{\"cells\": {\"fill\": {\"color\": \"#EBF0F8\"}, \"line\": {\"color\": \"white\"}}, \"header\": {\"fill\": {\"color\": \"#C8D4E3\"}, \"line\": {\"color\": \"white\"}}, \"type\": \"table\"}]}, \"layout\": {\"annotationdefaults\": {\"arrowcolor\": \"#2a3f5f\", \"arrowhead\": 0, \"arrowwidth\": 1}, \"coloraxis\": {\"colorbar\": {\"outlinewidth\": 0, \"ticks\": \"\"}}, \"colorscale\": {\"diverging\": [[0, \"#8e0152\"], [0.1, \"#c51b7d\"], [0.2, \"#de77ae\"], [0.3, \"#f1b6da\"], [0.4, \"#fde0ef\"], [0.5, \"#f7f7f7\"], [0.6, \"#e6f5d0\"], [0.7, \"#b8e186\"], [0.8, \"#7fbc41\"], [0.9, \"#4d9221\"], [1, \"#276419\"]], \"sequential\": [[0.0, \"#0d0887\"], [0.1111111111111111, \"#46039f\"], [0.2222222222222222, \"#7201a8\"], [0.3333333333333333, \"#9c179e\"], [0.4444444444444444, \"#bd3786\"], [0.5555555555555556, \"#d8576b\"], [0.6666666666666666, \"#ed7953\"], [0.7777777777777778, \"#fb9f3a\"], [0.8888888888888888, \"#fdca26\"], [1.0, \"#f0f921\"]], \"sequentialminus\": [[0.0, \"#0d0887\"], [0.1111111111111111, \"#46039f\"], [0.2222222222222222, \"#7201a8\"], [0.3333333333333333, \"#9c179e\"], [0.4444444444444444, \"#bd3786\"], [0.5555555555555556, \"#d8576b\"], [0.6666666666666666, \"#ed7953\"], [0.7777777777777778, \"#fb9f3a\"], [0.8888888888888888, \"#fdca26\"], [1.0, \"#f0f921\"]]}, \"colorway\": [\"#636efa\", \"#EF553B\", \"#00cc96\", \"#ab63fa\", \"#FFA15A\", \"#19d3f3\", \"#FF6692\", \"#B6E880\", \"#FF97FF\", \"#FECB52\"], \"font\": {\"color\": \"#2a3f5f\"}, \"geo\": {\"bgcolor\": \"white\", \"lakecolor\": \"white\", \"landcolor\": \"#E5ECF6\", \"showlakes\": true, \"showland\": true, \"subunitcolor\": \"white\"}, \"hoverlabel\": {\"align\": \"left\"}, \"hovermode\": \"closest\", \"mapbox\": {\"style\": \"light\"}, \"paper_bgcolor\": \"white\", \"plot_bgcolor\": \"#E5ECF6\", \"polar\": {\"angularaxis\": {\"gridcolor\": \"white\", \"linecolor\": \"white\", \"ticks\": \"\"}, \"bgcolor\": \"#E5ECF6\", \"radialaxis\": {\"gridcolor\": \"white\", \"linecolor\": \"white\", \"ticks\": \"\"}}, \"scene\": {\"xaxis\": {\"backgroundcolor\": \"#E5ECF6\", \"gridcolor\": \"white\", \"gridwidth\": 2, \"linecolor\": \"white\", \"showbackground\": true, \"ticks\": \"\", \"zerolinecolor\": \"white\"}, \"yaxis\": {\"backgroundcolor\": \"#E5ECF6\", \"gridcolor\": \"white\", \"gridwidth\": 2, \"linecolor\": \"white\", \"showbackground\": true, \"ticks\": \"\", \"zerolinecolor\": \"white\"}, \"zaxis\": {\"backgroundcolor\": \"#E5ECF6\", \"gridcolor\": \"white\", \"gridwidth\": 2, \"linecolor\": \"white\", \"showbackground\": true, \"ticks\": \"\", \"zerolinecolor\": \"white\"}}, \"shapedefaults\": {\"line\": {\"color\": \"#2a3f5f\"}}, \"ternary\": {\"aaxis\": {\"gridcolor\": \"white\", \"linecolor\": \"white\", \"ticks\": \"\"}, \"baxis\": {\"gridcolor\": \"white\", \"linecolor\": \"white\", \"ticks\": \"\"}, \"bgcolor\": \"#E5ECF6\", \"caxis\": {\"gridcolor\": \"white\", \"linecolor\": \"white\", \"ticks\": \"\"}}, \"title\": {\"x\": 0.05}, \"xaxis\": {\"automargin\": true, \"gridcolor\": \"white\", \"linecolor\": \"white\", \"ticks\": \"\", \"title\": {\"standoff\": 15}, \"zerolinecolor\": \"white\", \"zerolinewidth\": 2}, \"yaxis\": {\"automargin\": true, \"gridcolor\": \"white\", \"linecolor\": \"white\", \"ticks\": \"\", \"title\": {\"standoff\": 15}, \"zerolinecolor\": \"white\", \"zerolinewidth\": 2}}}},                        {\"responsive\": true}                    ).then(function(){\n",
       "                            \n",
       "var gd = document.getElementById('cd0baf69-24a7-44a5-954d-dd327f13ebff');\n",
       "var x = new MutationObserver(function (mutations, observer) {{\n",
       "        var display = window.getComputedStyle(gd).display;\n",
       "        if (!display || display === 'none') {{\n",
       "            console.log([gd, 'removed!']);\n",
       "            Plotly.purge(gd);\n",
       "            observer.disconnect();\n",
       "        }}\n",
       "}});\n",
       "\n",
       "// Listen for the removal of the full notebook cells\n",
       "var notebookContainer = gd.closest('#notebook-container');\n",
       "if (notebookContainer) {{\n",
       "    x.observe(notebookContainer, {childList: true});\n",
       "}}\n",
       "\n",
       "// Listen for the clearing of the current output cell\n",
       "var outputEl = gd.closest('.output');\n",
       "if (outputEl) {{\n",
       "    x.observe(outputEl, {childList: true});\n",
       "}}\n",
       "\n",
       "                        })                };                });            </script>        </div>"
      ]
     },
     "metadata": {},
     "output_type": "display_data"
    },
    {
     "data": {
      "text/plain": [
       "<Figure size 360x720 with 0 Axes>"
      ]
     },
     "metadata": {},
     "output_type": "display_data"
    }
   ],
   "source": [
    "%matplotlib inline\n",
    "fig = plt.figure(figsize=(5, 10))\n",
    "models=['Logistic Regression','Naive Bayes Classifier','Decision Tree Classifier','K-Nearest Neighbor','Support Vector Machine','AdaBoost','Random Forest Classifier']\n",
    "fig = go.Figure(data=[go.Bar(name='F1_score', x=models, y=[LR_f,NB_f,DT_f,knn_f,svm_f,adb_r,RF_f])])\n",
    "fig.show()"
   ]
  }
 ],
 "metadata": {
  "kernelspec": {
   "display_name": "Python 3",
   "language": "python",
   "name": "python3"
  },
  "language_info": {
   "codemirror_mode": {
    "name": "ipython",
    "version": 3
   },
   "file_extension": ".py",
   "mimetype": "text/x-python",
   "name": "python",
   "nbconvert_exporter": "python",
   "pygments_lexer": "ipython3",
   "version": "3.7.6"
  }
 },
 "nbformat": 4,
 "nbformat_minor": 4
}
